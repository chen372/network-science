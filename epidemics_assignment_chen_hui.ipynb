{
 "cells": [
  {
   "cell_type": "markdown",
   "metadata": {},
   "source": [
    "# Epidemics on networks: the SI model\n",
    "The goal of this assignment will be to implement a working SIS model on a network and reproduce a figure from this week's readings. We will start with an SI model as a template which you can then expand upon to build the SIS model.\n",
    "\n",
    "I will put together a function that will be able to take as input networkx graphs. In the SI model, a fraction of nodes begin as infected and then new infections spread throughout the network across the links with some probability `beta`. If the dice rolls out of the nodes favor then it becomes infected and can then infect other nodes that it neighbors.\n",
    "\n",
    "In a connected graph, the SI model should eventually infect everyone as t -> infinity because there will always be a non-zero probability of transmission. Alternatively, the SIS model will reach an equilibrium point where there is a balance between infections and reversions to susceptibility.\n",
    "\n",
    "Lets walk through building the SI model:"
   ]
  },
  {
   "cell_type": "code",
   "execution_count": 1,
   "metadata": {
    "collapsed": true
   },
   "outputs": [],
   "source": [
    "# We will be using numpy and networkx for our function\n",
    "import networkx as nx\n",
    "import numpy as np"
   ]
  },
  {
   "cell_type": "code",
   "execution_count": 2,
   "metadata": {
    "collapsed": true
   },
   "outputs": [],
   "source": [
    "# There will be 4 parameters for the model:\n",
    "# (graph) The networkx graph \n",
    "# (tmax) The maximum time that we will run the model \n",
    "# (beta) The transmission probability \n",
    "# (initial_inf) The initial fraction of infected nodes\n",
    "def SI(graph, tmax, beta, initial_inf):\n",
    "    \n",
    "    # First lets generate a set of initially infected nodes.\n",
    "    # We can do this by having numpy's random choice function pick \n",
    "    # nodes from the graph at random without replacement\n",
    "    # I convert the resulting list to a set so that it \n",
    "    # is faster to search over in the next step\n",
    "    inf_o = set(np.random.choice(graph.nodes(), size=int(len(graph) * initial_inf), replace=False))\n",
    "    \n",
    "    # Next we need to create an attribute for the nodes\n",
    "    # which will designate the state of that node as either infected \n",
    "    # or susceptible. We can use networkx's set attribute function to do this.\n",
    "    \n",
    "    # There is another issue though. I plan on iterating through each node\n",
    "    # in order to update its state based on the states of other nodes in the\n",
    "    # network. If I change the node state, then the next node will\n",
    "    # be updating with respect to a network that is now in a different state!\n",
    "    \n",
    "    # When modelling discrete time systems there are generally two different\n",
    "    # update strategies used. Synchronous and asynchronous updating. In\n",
    "    # Asynchronous updating random nodes are picked and their states are \n",
    "    # updated according to the current network state.\n",
    "    # In synchronous updating, there is a global time clock that all\n",
    "    # nodes are synched to, so nodes only update according to the \n",
    "    # state of the network at the current time-step and all nodes\n",
    "    # are updated simultaneously.\n",
    "    \n",
    "    # Choosing the updating scheme can have a huge impact on dynamics.\n",
    "    # We will be using a synchronous updating scheme, which means we\n",
    "    # need to store the current state of the system while we update. There are many\n",
    "    # ways to accomplish this such as having a temporary state dictionary,\n",
    "    # but because I want to make a time-series graph later, I will just\n",
    "    # keep the whole network history belonging to each node in a list.\n",
    "    \n",
    "    # The code below uses a dictionary comprehension to generate a dictionary\n",
    "    # with keys=nodes and values=a list of 0's and 1's. The 1 is for infected\n",
    "    # and 0 is for susceptible. We then give that dictionary to networkx's\n",
    "    # attribute function which then gives all the nodes the 'inf' attribute.\n",
    "    \n",
    "    # I also put a conditional statement in the dictionary comprehension\n",
    "    # which sets the initial states to 0 or 1 depending upon whether\n",
    "    # it is in the inf_o set. This all sets up our graph for t=0:\n",
    "    nx.set_node_attributes(graph, 'inf', {node: ([1] if node in inf_o else [0]) for node in graph.nodes_iter()})\n",
    "    \n",
    "    # Now we need to loop through for each time step\n",
    "    for t in range(tmax):\n",
    "        \n",
    "        # For each time step we need to update all the nodes in the network \n",
    "        for node in graph.nodes_iter():\n",
    "            \n",
    "            # Now we check if the node is susceptible to infection\n",
    "            # If it is, we need to determine the probability of it switching\n",
    "            # and then switch it for the next time-step\n",
    "            if graph.node[node]['inf'][t] == 0:\n",
    "                \n",
    "                # First determine how many infected neighbors the node has at time t:\n",
    "                num_inf_neighbors = np.sum([ graph.node[neighbor]['inf'][t] for neighbor in graph.neighbors(node)])\n",
    "                \n",
    "                # Instead of drawing a bunch of random numbers for each neighbor\n",
    "                # we  can just calculate the cumulative probability of getting\n",
    "                # infected since these events are independent and then just\n",
    "                # draw 1 random number to check against:\n",
    "                if np.random.random() < (1 - (1 - beta)**num_inf_neighbors):\n",
    "                    # If infection occurs we add a 1 to the state list of the node.\n",
    "                    # Note that by doing this we don't change how the other \n",
    "                    # nodes update, because they will be using time index t not t+1\n",
    "                    graph.node[node]['inf'].append(1)\n",
    "                    \n",
    "                else:\n",
    "                    # If no infection occurs, then just append the current state\n",
    "                    graph.node[node]['inf'].append(graph.node[node]['inf'][t])\n",
    "                    \n",
    "            # Similarly, if the node is already infected it can't change back\n",
    "            # So we append the current state if it wasn't susceptible\n",
    "            else:\n",
    "                graph.node[node]['inf'].append(graph.node[node]['inf'][t])\n",
    "                \n",
    "    # Once the updates have run their course for all nodes up to tmax we can\n",
    "    # return the time-series of the fraction of infected nodes\n",
    "    # It is easy to calculate because I let infected be 1, so the \n",
    "    # fraction infected is just the mean of the population at time t:\n",
    "    return [ np.mean([ graph.node[node]['inf'][t] for node in graph.nodes_iter() ]) for t in range(tmax)]"
   ]
  },
  {
   "cell_type": "markdown",
   "metadata": {},
   "source": [
    "And there we have our SI model. The function is mostly comments, there are only a dozen lines of code involved in the whole process. Lets give it a run:"
   ]
  },
  {
   "cell_type": "code",
   "execution_count": 3,
   "metadata": {
    "collapsed": true
   },
   "outputs": [],
   "source": [
    "# Lets generate a random graph for testing\n",
    "rnd_graph = nx.erdos_renyi_graph(100, 0.1)\n",
    "\n",
    "# We want to make sure that the graph is connected, so we will only take the largest\n",
    "# connected component, as disconnected parts can't be infected or transmit infection:\n",
    "rnd_graph = max(nx.connected_component_subgraphs(rnd_graph), key=len)"
   ]
  },
  {
   "cell_type": "code",
   "execution_count": 4,
   "metadata": {
    "collapsed": true
   },
   "outputs": [],
   "source": [
    "# Now lets plot it\n",
    "%matplotlib inline\n",
    "import matplotlib.pyplot as plt"
   ]
  },
  {
   "cell_type": "code",
   "execution_count": 5,
   "metadata": {
    "collapsed": false
   },
   "outputs": [
    {
     "data": {
      "text/plain": [
       "[<matplotlib.lines.Line2D at 0x29ddf4f22b0>]"
      ]
     },
     "execution_count": 5,
     "metadata": {},
     "output_type": "execute_result"
    },
    {
     "data": {
      "image/png": "[encoded data removed]",
      "text/plain": [
       "<matplotlib.figure.Figure at 0x29ddf0ea518>"
      ]
     },
     "metadata": {},
     "output_type": "display_data"
    }
   ],
   "source": [
    "plt.plot(SI(rnd_graph, tmax=20, beta=0.05, initial_inf=0.1))"
   ]
  },
  {
   "cell_type": "code",
   "execution_count": 6,
   "metadata": {
    "collapsed": false
   },
   "outputs": [
    {
     "data": {
      "text/plain": [
       "[<matplotlib.lines.Line2D at 0x29ddfa20cc0>]"
      ]
     },
     "execution_count": 6,
     "metadata": {},
     "output_type": "execute_result"
    },
    {
     "data": {
      "image/png": "[encoded data removed]",
      "text/plain": [
       "<matplotlib.figure.Figure at 0x29ddddc8400>"
      ]
     },
     "metadata": {},
     "output_type": "display_data"
    }
   ],
   "source": [
    "# Since it is a random process we want to do a couple\n",
    "# sample runs to smooth out the curve\n",
    "\n",
    "plt.plot( np.mean([SI(rnd_graph, tmax=20, beta=0.05, initial_inf=0.1) for i in range(50)], axis=0) )"
   ]
  },
  {
   "cell_type": "markdown",
   "metadata": {},
   "source": [
    "The axis argument in `numpy.mean` tells you which axis to apply the average over, since we have a two-dimensional array (time on one axis and trials on the other). If I picked `axis=1` instead, it would have run the average over time rather than the number of trials.\n",
    "\n",
    "This curve is much smoother than the previous one. You will find that this sort of averaging over trials is necessary when dealing with noisy or random models.\n",
    "\n",
    "We can see that at 10% initial infected population and an infection rate of 5% we infect the whole 100 node network within 20 time steps. Most of the growth occurs in the middle after the disease ramps up, and then slows as most of the population is already infected."
   ]
  },
  {
   "cell_type": "markdown",
   "metadata": {},
   "source": [
    "# Assignment: Building the SIS model\n",
    "The example SI model should give you a good starting point from which to create the SIS version. In the SIS model, infected nodes can transform back to susceptible nodes, which means you will have one additional parameter that needs to be provided as an argument to the model. Lets call this probability of reversion `mu`. You can either start with the SI function I provided and modify it into the SIS variant, or you can write your own function to taste. \n",
    "\n",
    "My implementation is simple but far from optimal, it will be slower to run on larger and more dense graphs. If you want more of a challenge try comming up with an SIS version that can run efficiently on larger graphs. This could be done by relying more heavily on numpy, which uses a c backend for array operations, or using a different network data structure.\n",
    "\n",
    "Here are your goals:\n",
    "\n",
    "1. Create an SIS version of the function, either by building off of mine or making your own from scratch.\n",
    "2. Plot your model's results using a sparse random graph and play with the parameters to get a feel for how `mu`, `beta`, and `initial_inf` change the equilibrium point of the system. The equilibrium point occurs when the system settles on a stable fraction of infected (see Fig 10.7 in Barabasi's textbook). Also take note of how long it takes for the system to reach equilibrium.\n",
    "3. Finally, construct a graph like Fig 10.11 from Barabasi's book that shows the difference between Erdos-Renyi graphs and Scale-free graphs for the SIS-model. The Y-axis in the figure will be the equilibrium point of the system. This will generally be the last time point of your simulation, assuming you run it long enough to let it reach equilibrium. The X-axis is the parameter `lambda` which is just `beta / mu`. The exact location of the critical point for the SIS model on the ER graph will vary depending upon parameters, but the key take-away is that the Scale-free graph's is lower (and eventually vanishes depending upon scaling exponent). Lastly, remember to use averaging to smooth the curves over many trials for each data-point. Note: The BA algorithm only generates exponents of 3. You can generate a directed scale-free graph with varying power-law exponent using networkx's [`scafe_free_graph`](https://networkx.readthedocs.io/en/stable/reference/generated/networkx.generators.directed.scale_free_graph.html#networkx.generators.directed.scale_free_graph) function. However, it needs to be converted to an undirected graph. You can make a power-law exponent of ~2.5 with the following parameters `alpha=0.35`, `beta=0.60`, `gamma=0.05`, `delta_in=0.4`, `delta_out=0.4`\n",
    "\n",
    "4. When you are done submit your notebook to Canvas."
   ]
  },
  {
   "cell_type": "code",
   "execution_count": 7,
   "metadata": {
    "collapsed": true
   },
   "outputs": [],
   "source": [
    "# There will be 5 parameters for the model:\n",
    "# (graph) The networkx graph \n",
    "# (tmax) The maximum time that we will run the model \n",
    "# (beta) The transmission probability \n",
    "# (mu) The reversion(recovery) probability\n",
    "# (initial_inf) The initial fraction of infected nodes\n",
    "\n",
    "def SIS(graph, tmax, beta, mu, initial_inf):\n",
    "    \n",
    "    inf_o = set(np.random.choice(graph.nodes(), size=int(len(graph) * initial_inf), replace=False))  \n",
    "    nx.set_node_attributes(graph, 'inf', {node: ([1] if node in inf_o else [0]) for node in graph.nodes_iter()})\n",
    "    \n",
    "    for t in range(tmax):\n",
    "        for node in graph.nodes_iter():\n",
    "            # if a node is susceptable\n",
    "            if graph.node[node]['inf'][t] == 0:                \n",
    "                num_inf_neighbors = np.sum([ graph.node[neighbor]['inf'][t] for neighbor in graph.neighbors(node)])\n",
    "                if np.random.random() < (1 - (1 - beta)**num_inf_neighbors):\n",
    "                    graph.node[node]['inf'].append(1)                    \n",
    "                else:\n",
    "                    graph.node[node]['inf'].append(graph.node[node]['inf'][t])\n",
    "            \n",
    "            # if a node is infected\n",
    "            else:\n",
    "                if np.random.random() < mu:\n",
    "                    graph.node[node]['inf'].append(0) \n",
    "                else:\n",
    "                    graph.node[node]['inf'].append(graph.node[node]['inf'][t])\n",
    "    return [ np.mean([ graph.node[node]['inf'][t] for node in graph.nodes_iter() ]) for t in range(tmax)]"
   ]
  },
  {
   "cell_type": "code",
   "execution_count": 9,
   "metadata": {
    "collapsed": false
   },
   "outputs": [
    {
     "data": {
      "text/plain": [
       "[<matplotlib.lines.Line2D at 0x29de0ac8860>]"
      ]
     },
     "execution_count": 9,
     "metadata": {},
     "output_type": "execute_result"
    },
    {
     "data": {
      "image/png": "[encoded data removed]",
      "text/plain": [
       "<matplotlib.figure.Figure at 0x29ddf139b70>"
      ]
     },
     "metadata": {},
     "output_type": "display_data"
    }
   ],
   "source": [
    "plt.plot( np.mean([SIS(rnd_graph, tmax=30, beta=0.05, mu=0.1, initial_inf=0.1) for i in range(50)], axis=0) )"
   ]
  },
  {
   "cell_type": "code",
   "execution_count": 10,
   "metadata": {
    "collapsed": false
   },
   "outputs": [],
   "source": [
    "scale_free_graph = nx.scale_free_graph(100, alpha=0.35, beta=0.60, gamma=0.05, delta_in=0.4, delta_out=0.4)\n",
    "scale_free_graph = nx.Graph(scale_free_graph)\n",
    "scale_free_graph = max(nx.connected_component_subgraphs(scale_free_graph), key=len)"
   ]
  },
  {
   "cell_type": "code",
   "execution_count": 11,
   "metadata": {
    "collapsed": false
   },
   "outputs": [
    {
     "data": {
      "text/plain": [
       "[0.0001,\n",
       " 0.01,\n",
       " 0.02,\n",
       " 0.03,\n",
       " 0.04,\n",
       " 0.049999999999999996,\n",
       " 0.08,\n",
       " 0.09999999999999999,\n",
       " 0.19999999999999998,\n",
       " 0.3,\n",
       " 0.5,\n",
       " 0.7999999999999999]"
      ]
     },
     "execution_count": 11,
     "metadata": {},
     "output_type": "execute_result"
    }
   ],
   "source": [
    "betas = [0.00001, 0.001, 0.002, 0.003, 0.004, 0.005, 0.008, 0.01, 0.02, 0.03, 0.05, 0.08]\n",
    "mus = [0.1]*12\n",
    "lamba = [float(beta)/mu for beta, mu in zip(betas, mus)]\n",
    "lamba"
   ]
  },
  {
   "cell_type": "code",
   "execution_count": null,
   "metadata": {
    "collapsed": true
   },
   "outputs": [],
   "source": [
    "equilibrium_random = []\n",
    "equilibrium_scale_free = []\n",
    "for beta, mu in zip(betas, mus):\n",
    "    equilibrium_random.append(np.mean([SIS(rnd_graph, tmax=100, beta=beta, mu=mu, initial_inf=0.1)[-1] for i in range(50)]))\n",
    "    equilibrium_scale_free.append(np.mean([SIS(scale_free_graph, tmax=50, beta=beta, mu=mu, initial_inf=0.1)[-1] for i in range(50)]))"
   ]
  },
  {
   "cell_type": "code",
   "execution_count": 171,
   "metadata": {
    "collapsed": false
   },
   "outputs": [
    {
     "name": "stdout",
     "output_type": "stream",
     "text": [
      "[0.0001, 0.01, 0.02, 0.03, 0.04, 0.049999999999999996, 0.08, 0.09999999999999999, 0.19999999999999998, 0.3, 0.5, 0.7999999999999999]\n",
      "[0.0, 0.0, 0.0, 0.0, 0.00020000000000000001, 0.00080000000000000004, 0.0068000000000000014, 0.032599999999999997, 0.44840000000000002, 0.61559999999999993, 0.75700000000000001, 0.82160000000000011]\n",
      "[0.0011999999999999999, 0.0, 0.001, 0.0014000000000000002, 0.001, 0.0034000000000000002, 0.007000000000000001, 0.0097999999999999997, 0.089800000000000019, 0.21820000000000001, 0.37160000000000004, 0.50939999999999996]\n"
     ]
    }
   ],
   "source": [
    "print (equilibrium_random)\n",
    "print (equilibrium_scale_free)"
   ]
  },
  {
   "cell_type": "code",
   "execution_count": 172,
   "metadata": {
    "collapsed": false
   },
   "outputs": [
    {
     "data": {
      "text/plain": [
       "<matplotlib.legend.Legend at 0x1eaacf53630>"
      ]
     },
     "execution_count": 172,
     "metadata": {},
     "output_type": "execute_result"
    },
    {
     "data": {
      "image/png": "[encoded data removed]",
      "text/plain": [
       "<matplotlib.figure.Figure at 0x1eaabc56438>"
      ]
     },
     "metadata": {},
     "output_type": "display_data"
    }
   ],
   "source": [
    "plt.plot(lamba, equilibrium_random, linestyle='--', label='Random') \n",
    "plt.plot(lamba, equilibrium_scale_free, label='Scale-free') \n",
    "plt.xlabel('Lamba')\n",
    "plt.ylabel('Equilibrium point')\n",
    "plt.legend(loc=2)"
   ]
  },
  {
   "cell_type": "code",
   "execution_count": null,
   "metadata": {
    "collapsed": true
   },
   "outputs": [],
   "source": []
  }
 ],
 "metadata": {
  "anaconda-cloud": {},
  "kernelspec": {
   "display_name": "Python [conda root]",
   "language": "python",
   "name": "conda-root-py"
  },
  "language_info": {
   "codemirror_mode": {
    "name": "ipython",
    "version": 3
   },
   "file_extension": ".py",
   "mimetype": "text/x-python",
   "name": "python",
   "nbconvert_exporter": "python",
   "pygments_lexer": "ipython3",
   "version": "3.5.2"
  }
 },
 "nbformat": 4,
 "nbformat_minor": 1
}
