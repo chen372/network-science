{
 "cells": [
  {
   "cell_type": "markdown",
   "metadata": {},
   "source": [
    "# Assignment\n",
    "\n",
    "For this assignment you will calculate and plot the distribution of the path lengths of a graph. First we will generate a random graph which we will use for the assignment:"
   ]
  },
  {
   "cell_type": "code",
   "execution_count": 2,
   "metadata": {
    "collapsed": false
   },
   "outputs": [
    {
     "name": "stdout",
     "output_type": "stream",
     "text": [
      "Name: gnp_random_graph(1200,0.008)\n",
      "Type: Graph\n",
      "Number of nodes: 1200\n",
      "Number of edges: 5791\n",
      "Average degree:   9.6517\n"
     ]
    }
   ],
   "source": [
    "import networkx as nx\n",
    "\n",
    "random_graph = nx.erdos_renyi_graph(1200, 0.008)\n",
    "print(nx.info(random_graph))"
   ]
  },
  {
   "cell_type": "code",
   "execution_count": 23,
   "metadata": {
    "collapsed": false
   },
   "outputs": [
    {
     "data": {
      "image/png": "[encoded data removed]",
      "text/plain": [
       "<matplotlib.figure.Figure at 0x1e4e89192e8>"
      ]
     },
     "metadata": {},
     "output_type": "display_data"
    }
   ],
   "source": [
    "import matplotlib.pyplot as plt\n",
    "%matplotlib inline\n",
    "\n",
    "g = nx.erdos_renyi_graph(4, 0.5)\n",
    "nx.draw(g)\n",
    "plt.show()"
   ]
  },
  {
   "cell_type": "code",
   "execution_count": 24,
   "metadata": {
    "collapsed": false
   },
   "outputs": [
    {
     "name": "stdout",
     "output_type": "stream",
     "text": [
      "0 2\n",
      "1 2\n",
      "2 1\n",
      "3 3\n"
     ]
    }
   ],
   "source": [
    "for i in g:\n",
    "    print (i, g.degree(i))"
   ]
  },
  {
   "cell_type": "code",
   "execution_count": 14,
   "metadata": {
    "collapsed": false
   },
   "outputs": [
    {
     "name": "stdout",
     "output_type": "stream",
     "text": [
      "2\n",
      "2\n",
      "3\n",
      "4\n",
      "0\n",
      "1\n",
      "3\n",
      "4\n",
      "1\n",
      "2\n",
      "1\n",
      "2\n"
     ]
    }
   ],
   "source": [
    "level = {}\n",
    "queue = []\n",
    "i = 1\n",
    "for node in g:\n",
    "    queue.append(node)\n",
    "    while queue:\n",
    "        source = queue.pop(0)\n",
    "        for neb in g.neighbors_iter(source):\n",
    "            if neb not in level:\n",
    "                level[neb] = i\n",
    "        i += 1        \n",
    "                \n",
    "    \n",
    "    "
   ]
  },
  {
   "cell_type": "code",
   "execution_count": 43,
   "metadata": {
    "collapsed": false
   },
   "outputs": [
    {
     "name": "stdout",
     "output_type": "stream",
     "text": [
      "[1, 3]\n",
      "[2]\n",
      "[]\n",
      "[3]\n",
      "[2]\n",
      "[]\n",
      "[3]\n",
      "[]\n",
      "[]\n",
      "[dict_items([(1, 1), (2, 2), (3, 1)]), dict_items([(2, 2), (3, 1)]), dict_items([(3, 1)]), dict_items([])]\n"
     ]
    }
   ],
   "source": [
    "shortest = []\n",
    "node_visited = []\n",
    "for node in g:   \n",
    "    Current = [node]\n",
    "    node_visited.append(node)\n",
    "    level = {}\n",
    "    i = 1\n",
    "    while Current:\n",
    "        Next = []\n",
    "        for c in Current: \n",
    "            for neb in g.neighbors_iter(c):\n",
    "                if neb not in level and neb not in node_visited:\n",
    "                    level[neb] = i\n",
    "                    Next.append(neb)\n",
    "        Current = Next\n",
    "        print (Current)\n",
    "        i += 1 \n",
    "    shortest.append(level.items())   \n",
    "print (shortest)"
   ]
  },
  {
   "cell_type": "markdown",
   "metadata": {},
   "source": [
    "## 1. Finding path lengths\n",
    "\n",
    "Networkx provides a shortest [path length function](https://networkx.github.io/documentation/networkx-1.10/reference/generated/networkx.algorithms.shortest_paths.generic.shortest_path.html) which you can use to get the shortest path between nodes in a graph. Try out some of the examples in the documentation using the random graph we made above until you get familiar with how it works and what type of output it gives.\n",
    "\n",
    "Next write a function that will return a list of the shortest path **lengths** between all pairs of nodes (make sure each pair is only counted once). This function should take a single argument, `G`, a networkx graph."
   ]
  },
  {
   "cell_type": "code",
   "execution_count": 1,
   "metadata": {
    "collapsed": true
   },
   "outputs": [],
   "source": [
    "def all_shortest_path_lengths(G):\n",
    "    # To be implemented\n",
    "    pass"
   ]
  },
  {
   "cell_type": "markdown",
   "metadata": {},
   "source": [
    "Apply your function to the ```random_graph``` and assign the list of shortest path lengths to a variable:"
   ]
  },
  {
   "cell_type": "code",
   "execution_count": 2,
   "metadata": {
    "collapsed": true
   },
   "outputs": [],
   "source": [
    "# your code here"
   ]
  },
  {
   "cell_type": "markdown",
   "metadata": {},
   "source": [
    "## 2. Visualizing the results\n",
    "Now that you have a list of the shortest paths for the graph, make a histogram for it. This can be done with [matplotlibs histogram function](http://matplotlib.org/api/pyplot_api.html?highlight=hist#matplotlib.pyplot.hist)"
   ]
  },
  {
   "cell_type": "code",
   "execution_count": 4,
   "metadata": {
    "collapsed": true
   },
   "outputs": [],
   "source": [
    "%matplotlib inline\n",
    "import matplotlib.pyplot as plt"
   ]
  },
  {
   "cell_type": "markdown",
   "metadata": {},
   "source": [
    "This function is fairly useful and lets us quickly visualize a distribution. For instance, if we create a small set of normally distributed random numbers we could use the histogram function to plot the bell curve:"
   ]
  },
  {
   "cell_type": "code",
   "execution_count": 6,
   "metadata": {
    "collapsed": false
   },
   "outputs": [
    {
     "data": {
      "image/png": "[encoded data removed]",
      "text/plain": [
       "<matplotlib.figure.Figure at 0x7f1989ba3908>"
      ]
     },
     "metadata": {},
     "output_type": "display_data"
    }
   ],
   "source": [
    "import numpy as np\n",
    "# Create dummy data\n",
    "rvs = np.random.normal(size=1000)\n",
    "# plot histogram\n",
    "pdf, bins, patch = plt.hist(rvs, bins=30)"
   ]
  },
  {
   "cell_type": "markdown",
   "metadata": {},
   "source": [
    "You may need to adjust the number of bins so that it is appropriate for the amount of data points you have.\n",
    "\n",
    "Use the histogram function to make a plot of the results from your shortest paths length function:"
   ]
  },
  {
   "cell_type": "code",
   "execution_count": 4,
   "metadata": {
    "collapsed": true
   },
   "outputs": [],
   "source": [
    "# code here"
   ]
  },
  {
   "cell_type": "markdown",
   "metadata": {},
   "source": [
    "### Name your notebook: shortest_lastname_firstname.ipynb and submit to Canvas"
   ]
  }
 ],
 "metadata": {
  "anaconda-cloud": {},
  "kernelspec": {
   "display_name": "Python [default]",
   "language": "python",
   "name": "python3"
  },
  "language_info": {
   "codemirror_mode": {
    "name": "ipython",
    "version": 3
   },
   "file_extension": ".py",
   "mimetype": "text/x-python",
   "name": "python",
   "nbconvert_exporter": "python",
   "pygments_lexer": "ipython3",
   "version": "3.5.2"
  }
 },
 "nbformat": 4,
 "nbformat_minor": 0
}
