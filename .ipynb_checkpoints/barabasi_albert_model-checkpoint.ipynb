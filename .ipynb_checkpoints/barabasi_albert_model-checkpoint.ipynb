{
 "cells": [
  {
   "cell_type": "markdown",
   "metadata": {},
   "source": [
    "# Assignment: Scale-free networks\n",
    "\n",
    "## 1. Implement BA algorithm\n",
    "For this assignment you will be implementing the BA algorithm from the reading (see [Barabasi Ch 5.3](http://barabasi.com/networksciencebook/)). Create a function that takes `n` the number of nodes for the graph, and `m_o` the initial number of nodes, as arguments and returns a networkx graph with a scale-free degree distribution.\n",
    "\n",
    "(Hint1: `numpy`'s [`np.random.choice`](http://docs.scipy.org/doc/numpy/reference/generated/numpy.random.choice.html) has optional arguments for weighted random selection)\n",
    "\n",
    "(Hint2: there is another very simple method to sample nodes based on their degree. In doing so, you'll create a long list.)"
   ]
  },
  {
   "cell_type": "code",
   "execution_count": 355,
   "metadata": {
    "collapsed": false
   },
   "outputs": [],
   "source": [
    "import numpy as np\n",
    "import networkx as nx\n",
    "import random\n",
    "%matplotlib inline\n",
    "import matplotlib.pyplot as plt"
   ]
  },
  {
   "cell_type": "code",
   "execution_count": 368,
   "metadata": {
    "collapsed": false
   },
   "outputs": [],
   "source": [
    "# Write your function here\n",
    "def BA_model(n, m_o):\n",
    "    # first we create a random graph with m_o nodes, and each node has at least one link. \n",
    "    g = nx.Graph()\n",
    "    g.add_nodes_from(list(range(m_o))) \n",
    "    g.add_edges_from(zip([m_o-1]*m_o,list(range(m_o))))\n",
    "    # next we add new node for each timestep t\n",
    "    source = m_o  # the new-added node\n",
    "    targets = np.random.choice(range(m_o), m_o)  # randomly choose m_o nodes (targets)\n",
    "    g.add_edges_from(zip([source]*m_o, targets))   # new node adds m_o links with the target nodes\n",
    "\n",
    "    while source < n:\n",
    "        # we follow the edges of each target and find all the other linked nodes, save them in the pool\n",
    "        pool = [] \n",
    "        for target in targets:\n",
    "            for e in g.edges_iter(target):\n",
    "                pool.append(e[1])    \n",
    "        # randomly choose m_o nodes from the pool as targets\n",
    "        targets = []    \n",
    "        for i in range(m_o):\n",
    "            targets.append(random.choice(pool))\n",
    "        g.add_edges_from(zip([source]*m_o, targets))    \n",
    "        source += 1\n",
    "    return g"
   ]
  },
  {
   "cell_type": "code",
   "execution_count": 371,
   "metadata": {
    "collapsed": false
   },
   "outputs": [],
   "source": [
    "a = BA_model(1000, 5)"
   ]
  },
  {
   "cell_type": "code",
   "execution_count": 372,
   "metadata": {
    "collapsed": false
   },
   "outputs": [
    {
     "data": {
      "image/png": "[encoded data removed]",
      "text/plain": [
       "<matplotlib.figure.Figure at 0x21783d700f0>"
      ]
     },
     "metadata": {},
     "output_type": "display_data"
    }
   ],
   "source": [
    "degree = []\n",
    "for node in a:\n",
    "    degree.append(a.degree(node))\n",
    "pdf, bins, patch = plt.hist(degree, bins=50)"
   ]
  },
  {
   "cell_type": "code",
   "execution_count": null,
   "metadata": {
    "collapsed": true
   },
   "outputs": [],
   "source": []
  },
  {
   "cell_type": "code",
   "execution_count": null,
   "metadata": {
    "collapsed": true
   },
   "outputs": [],
   "source": [
    "# next we add new node for each timestep t\n",
    "source = m_o  # the new-added node\n",
    "targets = np.random.choice(range(len(m_o)), m_o) #randomly choose m_o nodes \n",
    "g.add_edges_from(zip([source]*m_o, targets))  \n",
    "\n",
    "pool = [] \n",
    "for target in targets:\n",
    "    for e in g.edges_iter(target):\n",
    "        pool.append(e[1])\n",
    "targets = [] \n",
    "for in in range(m_o):\n",
    "    targets.append(random.choice(pool))\n",
    "g.add_edges_from(zip([source]*m_o, targets)) \n",
    "                       \n",
    "\n",
    "                       \n",
    "              \n",
    "t += 1             "
   ]
  },
  {
   "cell_type": "code",
   "execution_count": 357,
   "metadata": {
    "collapsed": false
   },
   "outputs": [
    {
     "data": {
      "text/plain": [
       "{0: 1, 1: 1, 2: 1, 3: 1, 4: 6}"
      ]
     },
     "execution_count": 357,
     "metadata": {},
     "output_type": "execute_result"
    }
   ],
   "source": [
    "m_o = 5\n",
    "g = nx.Graph()\n",
    "g.add_nodes_from(list(range(m_o))) \n",
    "g.add_edges_from(zip([m_o-1]*m_o,list(range(m_o))))  #total degree is 2*m_o\n",
    "g.degree()"
   ]
  },
  {
   "cell_type": "code",
   "execution_count": 359,
   "metadata": {
    "collapsed": false
   },
   "outputs": [
    {
     "data": {
      "text/plain": [
       "[(4, 0), (4, 1), (4, 2), (4, 3), (4, 4)]"
      ]
     },
     "execution_count": 359,
     "metadata": {},
     "output_type": "execute_result"
    }
   ],
   "source": [
    "g.edges(0)\n",
    "edges = g.edges(4)\n",
    "edges"
   ]
  },
  {
   "cell_type": "code",
   "execution_count": null,
   "metadata": {
    "collapsed": true
   },
   "outputs": [],
   "source": [
    "edges"
   ]
  },
  {
   "cell_type": "code",
   "execution_count": 363,
   "metadata": {
    "collapsed": false
   },
   "outputs": [
    {
     "name": "stdout",
     "output_type": "stream",
     "text": [
      "0\n",
      "1\n",
      "2\n",
      "3\n",
      "4\n"
     ]
    }
   ],
   "source": [
    "for e in g.edges_iter(4):\n",
    "    print (e[1])"
   ]
  },
  {
   "cell_type": "code",
   "execution_count": 4,
   "metadata": {
    "collapsed": false
   },
   "outputs": [
    {
     "ename": "NameError",
     "evalue": "name 'm_o' is not defined",
     "output_type": "error",
     "traceback": [
      "\u001b[0;31m---------------------------------------------------------------------------\u001b[0m",
      "\u001b[0;31mNameError\u001b[0m                                 Traceback (most recent call last)",
      "\u001b[0;32m<ipython-input-4-540c31db962d>\u001b[0m in \u001b[0;36m<module>\u001b[0;34m()\u001b[0m\n\u001b[1;32m      1\u001b[0m \u001b[1;31m# Write your function here\u001b[0m\u001b[1;33m\u001b[0m\u001b[1;33m\u001b[0m\u001b[0m\n\u001b[0;32m----> 2\u001b[0;31m \u001b[0ml\u001b[0m \u001b[1;33m=\u001b[0m \u001b[0mnp\u001b[0m\u001b[1;33m.\u001b[0m\u001b[0mrandom\u001b[0m\u001b[1;33m.\u001b[0m\u001b[0mrandom_integers\u001b[0m\u001b[1;33m(\u001b[0m\u001b[1;36m1\u001b[0m\u001b[1;33m,\u001b[0m \u001b[0mm_o\u001b[0m\u001b[1;33m+\u001b[0m\u001b[1;36m1\u001b[0m\u001b[1;33m,\u001b[0m \u001b[0mm_o\u001b[0m\u001b[1;33m)\u001b[0m\u001b[1;33m\u001b[0m\u001b[0m\n\u001b[0m\u001b[1;32m      3\u001b[0m \u001b[0mg\u001b[0m \u001b[1;33m=\u001b[0m \u001b[0mrandom_degree_sequence_graph\u001b[0m\u001b[1;33m(\u001b[0m\u001b[0msequence\u001b[0m\u001b[1;33m[\u001b[0m\u001b[0ml\u001b[0m\u001b[1;33m]\u001b[0m\u001b[1;33m)\u001b[0m\u001b[1;33m\u001b[0m\u001b[0m\n",
      "\u001b[0;31mNameError\u001b[0m: name 'm_o' is not defined"
     ]
    }
   ],
   "source": [
    "# Write your function here\n",
    "l = np.random.random_integers(1, m_o+1, m_o)\n",
    "g = random_degree_sequence_graph(sequence[l])"
   ]
  },
  {
   "cell_type": "code",
   "execution_count": 196,
   "metadata": {
    "collapsed": false
   },
   "outputs": [],
   "source": [
    "\n"
   ]
  },
  {
   "cell_type": "code",
   "execution_count": null,
   "metadata": {
    "collapsed": true
   },
   "outputs": [],
   "source": []
  },
  {
   "cell_type": "code",
   "execution_count": 345,
   "metadata": {
    "collapsed": true
   },
   "outputs": [],
   "source": [
    "def BA_model(n, m_o):\n",
    "    g = nx.Graph()\n",
    "    g.add_nodes_from(list(range(m_o)))\n",
    "    new = m_o  # the new-added node (i.e., 5) which has m links, m <=m_o, we can simply assume that m = m_o\n",
    "    targets = list(range(m_o))   # all existing nodes, plus new-node, i.e., [0, 1, 2, 3, 4, 5]\n",
    "    pool = []\n",
    "    \n",
    "    while new < n:\n",
    "        g.add_edges_from(zip([new]*m_o,targets))\n",
    "        pool.extend(targets)\n",
    "        pool.extend([new]*m_o)\n",
    "        targets = []\n",
    "        for i in range(m_o):\n",
    "            targets.append(random.choice(pool))\n",
    "        new += 1\n",
    "    return g"
   ]
  },
  {
   "cell_type": "code",
   "execution_count": null,
   "metadata": {
    "collapsed": true
   },
   "outputs": [],
   "source": [
    "def BA_model(n, m_o):\n",
    "    g = nx.Graph()\n",
    "    g.add_nodes_from(list(range(m_o)))\n",
    "    new = m_o  # the new-added node (i.e., 5) which has m links, m <=m_o, we can simply assume that m = m_o\n",
    "    targets = list(range(m_o+1))   # all existing nodes, plus new-node, i.e., [0, 1, 2, 3, 4, 5]\n",
    "    pool = []\n",
    "    \n",
    "    while new < n:\n",
    "        g.add_edges_from(zip([new]*m_o,targets))\n",
    "        pool.extend(targets)\n",
    "        pool.extend([new]*m_o)\n",
    "        targets = []\n",
    "        for i in range(m_o):\n",
    "            targets.append(random.choice(pool))\n",
    "        new += 1\n",
    "        pool.extend([new]*m_o)\n",
    "    return g"
   ]
  },
  {
   "cell_type": "code",
   "execution_count": null,
   "metadata": {
    "collapsed": true
   },
   "outputs": [],
   "source": []
  },
  {
   "cell_type": "code",
   "execution_count": null,
   "metadata": {
    "collapsed": true
   },
   "outputs": [],
   "source": []
  },
  {
   "cell_type": "code",
   "execution_count": null,
   "metadata": {
    "collapsed": true
   },
   "outputs": [],
   "source": [
    "def BA_model(n, m_o):\n",
    "    g = nx.Graph()\n",
    "    g.add_nodes_from(range(m_o)) \n",
    "    source = m_o  # the new-added node (i.e., 5) which has m links, m <=m_o, we can simply assume that m = m_o\n",
    "    all_nodes = list(range(m_o+1))   # all existing nodes, plus new-node, i.e., [0, 1, 2, 3, 4, 5]\n",
    "    #t = m_o+1\n",
    "    \n",
    "    while source < n:\n",
    "        degree_sum = 0.0\n",
    "        degrees = []\n",
    "        p = []\n",
    "        for node in g:\n",
    "            degrees.append(g.degree(node)) \n",
    "            degree_sum += g.degree(node)\n",
    "        #print (degrees)\n",
    "        #print (degree_sum)\n",
    "        for d in degrees:\n",
    "            p.append(d/degree_sum)   # p is the prob that a link to new node connects to node i    \n",
    "        p.append(m_o/degree_sum)  # finally add prob of self-loop\n",
    "        #print (p)\n",
    "        targets = np.random.choice(len(all_nodes), m_o, p) #select 5 nodes from existing nodes based on their degrees\n",
    "        #print (targets)\n",
    "        g.add_edges_from(zip([source]*m_o, targets))   \n",
    "        source += 1\n",
    "        all_nodes = list(range(source+1))\n",
    "        #print (len(all_nodes))\n",
    "        #t += 1\n",
    "    return g"
   ]
  },
  {
   "cell_type": "code",
   "execution_count": 328,
   "metadata": {
    "collapsed": false
   },
   "outputs": [],
   "source": [
    "def BA_model(n, m_o):\n",
    "    # first we create a random graph with m_o nodes, and each node has at least one link. \n",
    "    g = nx.erdos_renyi_graph(m_o, 0.1)\n",
    "    isolates = nx.isolates(g)\n",
    "    for i in isolates:\n",
    "        g.add_edge(i, np.random.choice(m_o, 1).tolist()[0])  #self-loop is allowed   \n",
    "    source = m_o  # the new-added node (i.e., 5) which has m links, m <=m_o, we can simply assume that m = m_o\n",
    "    all_nodes = list(range(m_o+1))   # all existing nodes, plus new-node, i.e., [0, 1, 2, 3, 4, 5]\n",
    "    #t = m_o+1\n",
    "    \n",
    "    while source < n:\n",
    "        degree_sum = 0.0\n",
    "        degrees = []\n",
    "        p = []\n",
    "        for node in g:\n",
    "            degrees.append(g.degree(node)) \n",
    "            degree_sum += g.degree(node)\n",
    "        #print (degrees)\n",
    "        #print (degree_sum)\n",
    "        for d in degrees:\n",
    "            p.append(d/(degree_sum+m_o))   # p is the prob that a link to new node connects to node i    \n",
    "        p.append(m_o/(degree_sum+m_o))  # finally add prob of self-loop\n",
    "        #print (p)\n",
    "        targets = np.random.choice(len(all_nodes), m_o, p) #select 5 nodes from existing nodes based on their degrees\n",
    "        #print (targets)\n",
    "        g.add_edges_from(zip([source]*m_o, targets))   \n",
    "        source += 1  # add a new node\n",
    "        all_nodes = list(range(source+1)) # add the previous new node to the existing nodes\n",
    "        #print (len(all_nodes))\n",
    "        #t += 1\n",
    "    return g"
   ]
  },
  {
   "cell_type": "code",
   "execution_count": 329,
   "metadata": {
    "collapsed": false
   },
   "outputs": [],
   "source": [
    "BA_graph = BA_model(10, 4)"
   ]
  },
  {
   "cell_type": "code",
   "execution_count": 346,
   "metadata": {
    "collapsed": false
   },
   "outputs": [],
   "source": [
    "BA_graph = BA_model(1200, 7)"
   ]
  },
  {
   "cell_type": "code",
   "execution_count": null,
   "metadata": {
    "collapsed": true
   },
   "outputs": [],
   "source": []
  },
  {
   "cell_type": "code",
   "execution_count": 53,
   "metadata": {
    "collapsed": false
   },
   "outputs": [
    {
     "data": {
      "text/plain": [
       "{1: 2}"
      ]
     },
     "execution_count": 53,
     "metadata": {},
     "output_type": "execute_result"
    }
   ],
   "source": [
    "g = nx.Graph()\n",
    "g.add_node(1)\n",
    "g.add_edge(1,1)\n",
    "nx.degree(g)"
   ]
  },
  {
   "cell_type": "code",
   "execution_count": 94,
   "metadata": {
    "collapsed": false
   },
   "outputs": [
    {
     "name": "stdout",
     "output_type": "stream",
     "text": [
      "{0: 4, 1: 4, 2: 3, 3: 3, 4: 4}\n",
      "4\n",
      "4\n",
      "3\n",
      "3\n",
      "4\n",
      "18.0\n",
      "[4, 4, 3, 3, 4]\n",
      "[0.2222222222222222, 0.2222222222222222, 0.16666666666666666, 0.16666666666666666, 0.2222222222222222]\n"
     ]
    }
   ],
   "source": [
    "g = nx.erdos_renyi_graph(5, 0.8)\n",
    "print (nx.degree(g))\n",
    "degree_sum = 0.0\n",
    "degrees = []\n",
    "p = []\n",
    "for node in g:\n",
    "    print (g.degree(node))\n",
    "    degree_sum += g.degree(node)\n",
    "    degrees.append(g.degree(node)) \n",
    "\n",
    "for d in degrees:\n",
    "    p.append(d/degree_sum)\n",
    "    \n",
    "print (degree_sum)\n",
    "print (degrees)\n",
    "print (p)"
   ]
  },
  {
   "cell_type": "code",
   "execution_count": 113,
   "metadata": {
    "collapsed": false
   },
   "outputs": [
    {
     "data": {
      "text/plain": [
       "[5, 5, 2, 3, 0]"
      ]
     },
     "execution_count": 113,
     "metadata": {},
     "output_type": "execute_result"
    }
   ],
   "source": [
    "p =[0.22222222, 0.22222222, 0.16666667, 0.16666667, 0.22222222, 0.223]\n",
    "a = np.random.choice(6, 5, p).tolist()\n",
    "a"
   ]
  },
  {
   "cell_type": "code",
   "execution_count": 138,
   "metadata": {
    "collapsed": false
   },
   "outputs": [
    {
     "name": "stdout",
     "output_type": "stream",
     "text": [
      "gnp_random_graph(5,0.1)\n"
     ]
    }
   ],
   "source": [
    "g = nx.erdos_renyi_graph(5, 0.1)\n",
    "#nx.draw(g)\n",
    "#plt.show()\n",
    "isolates = nx.isolates(g)\n",
    "for i in isolates:\n",
    "    g.add_edge(i, np.random.choice(5, 1).tolist()[0])  #self-loop is allowed\n",
    "#nx.draw(g)\n",
    "#plt.show()\n",
    "g.add_edges_from(zip(range(0,3),range(1,4))) \n",
    "g"
   ]
  },
  {
   "cell_type": "markdown",
   "metadata": {},
   "source": [
    "## 2. BA graph analysis\n",
    "Test your algorithm by creating a graph with `N = 1200` and `m_o = 7`. Calculate (and print) the average shortest path length of the graph:"
   ]
  },
  {
   "cell_type": "code",
   "execution_count": 349,
   "metadata": {
    "collapsed": false
   },
   "outputs": [
    {
     "name": "stdout",
     "output_type": "stream",
     "text": [
      "2.717753683625243\n"
     ]
    }
   ],
   "source": [
    "# Your code here\n",
    "BA_graph = BA_model(1200, 7)\n",
    "print(nx.average_shortest_path_length(BA_graph))"
   ]
  },
  {
   "cell_type": "markdown",
   "metadata": {},
   "source": [
    "Calculate (and print) the average clustering coefficient of the graph:"
   ]
  },
  {
   "cell_type": "code",
   "execution_count": 350,
   "metadata": {
    "collapsed": false
   },
   "outputs": [
    {
     "name": "stdout",
     "output_type": "stream",
     "text": [
      "0.060115356079991474\n"
     ]
    }
   ],
   "source": [
    "# Your code here\n",
    "print(nx.average_clustering(BA_graph))"
   ]
  },
  {
   "cell_type": "markdown",
   "metadata": {},
   "source": [
    "Now plot a histogram of the degree distribution of the graph (remember to include `%matplotlib inline` for plotting in Jupyter):"
   ]
  },
  {
   "cell_type": "code",
   "execution_count": 351,
   "metadata": {
    "collapsed": false
   },
   "outputs": [
    {
     "data": {
      "image/png": "[encoded data removed]",
      "text/plain": [
       "<matplotlib.figure.Figure at 0x21783fb4eb8>"
      ]
     },
     "metadata": {},
     "output_type": "display_data"
    }
   ],
   "source": [
    "# Your code here\n",
    "degree = []\n",
    "for node in BA_graph:\n",
    "    degree.append(BA_graph.degree(node))\n",
    "pdf, bins, patch = plt.hist(degree, bins=50)"
   ]
  },
  {
   "cell_type": "code",
   "execution_count": 255,
   "metadata": {
    "collapsed": false
   },
   "outputs": [],
   "source": [
    "b = nx.barabasi_albert_graph(1200, 7)"
   ]
  },
  {
   "cell_type": "code",
   "execution_count": 256,
   "metadata": {
    "collapsed": false
   },
   "outputs": [
    {
     "data": {
      "image/png": "[encoded data removed]",
      "text/plain": [
       "<matplotlib.figure.Figure at 0x21783a394a8>"
      ]
     },
     "metadata": {},
     "output_type": "display_data"
    }
   ],
   "source": [
    "degree = []\n",
    "for node in b:\n",
    "    degree.append(b.degree(node))\n",
    "pdf, bins, patch = plt.hist(degree, bins=50)"
   ]
  },
  {
   "cell_type": "code",
   "execution_count": 335,
   "metadata": {
    "collapsed": false
   },
   "outputs": [
    {
     "name": "stdout",
     "output_type": "stream",
     "text": [
      "2.794475952182374\n",
      "0.04179681163534851\n"
     ]
    }
   ],
   "source": [
    "print(nx.average_shortest_path_length(b))\n",
    "print(nx.average_clustering(b))"
   ]
  },
  {
   "cell_type": "markdown",
   "metadata": {},
   "source": [
    "## 3. BA and ER comparison\n",
    "Now lets compare the scale-free and random graphs. Create a random graph with the same number of nodes and about the same number of edges, then calculate the average shortest path length of that graph:"
   ]
  },
  {
   "cell_type": "code",
   "execution_count": 354,
   "metadata": {
    "collapsed": false
   },
   "outputs": [
    {
     "name": "stdout",
     "output_type": "stream",
     "text": [
      "2.9932513205448985\n",
      "8027\n",
      "8102\n"
     ]
    }
   ],
   "source": [
    "# Your code here\n",
    "e = BA_graph.number_of_edges()\n",
    "random_graph = nx.erdos_renyi_graph(1200, 2*e/(1200*1199))\n",
    "print(nx.average_shortest_path_length(random_graph))\n",
    "print (random_graph.number_of_edges())\n",
    "print (e)"
   ]
  },
  {
   "cell_type": "markdown",
   "metadata": {},
   "source": [
    "Calculate (and print) the average clustering coefficient of the graph:"
   ]
  },
  {
   "cell_type": "code",
   "execution_count": 338,
   "metadata": {
    "collapsed": false
   },
   "outputs": [
    {
     "name": "stdout",
     "output_type": "stream",
     "text": [
      "0.010964525373633278\n"
     ]
    }
   ],
   "source": [
    "# Your code here\n",
    "print(nx.average_clustering(random_graph))"
   ]
  },
  {
   "cell_type": "markdown",
   "metadata": {},
   "source": [
    "Now plot a histogram of the degree distribution of the random graph:"
   ]
  },
  {
   "cell_type": "code",
   "execution_count": 339,
   "metadata": {
    "collapsed": false
   },
   "outputs": [
    {
     "data": {
      "image/png": "[encoded data removed]",
      "text/plain": [
       "<matplotlib.figure.Figure at 0x21781a79828>"
      ]
     },
     "metadata": {},
     "output_type": "display_data"
    }
   ],
   "source": [
    "# Your code here\n",
    "degree = []\n",
    "for node in random_graph:\n",
    "    degree.append(random_graph.degree(node))\n",
    "pdf, bins, patch = plt.hist(degree, bins=50)"
   ]
  },
  {
   "cell_type": "markdown",
   "metadata": {},
   "source": [
    "How do the average shortest path lengths, average clustering coefficients, and degree distributions between the graphs compare?"
   ]
  },
  {
   "cell_type": "markdown",
   "metadata": {},
   "source": [
    "(use this markdown cell for your response)"
   ]
  },
  {
   "cell_type": "code",
   "execution_count": null,
   "metadata": {
    "collapsed": true
   },
   "outputs": [],
   "source": []
  },
  {
   "cell_type": "markdown",
   "metadata": {},
   "source": [
    "## 4. Preferential attachment without using the degree\n",
    "\n",
    "As explained in a video, it is possible to achieve the linear preferential attachment without calculating the degree by using the principle that we learned in the friendship paradox. Implement this version and see whether you can get a power-law degree distribution.  \n",
    "\n",
    "Helpful page:\n",
    "- https://networkx.github.io/documentation/networkx-1.10/reference/generated/networkx.Graph.edges.html \n"
   ]
  },
  {
   "cell_type": "code",
   "execution_count": null,
   "metadata": {
    "collapsed": true
   },
   "outputs": [],
   "source": [
    "# your code here"
   ]
  },
  {
   "cell_type": "markdown",
   "metadata": {},
   "source": [
    "## 5. Visualizing a scale-free graph\n",
    "Write your graph to file and then load it into Gephi and make it presentable. Save your graph visualization as a PDF and upload it with this Jupyter notebook to Canvas."
   ]
  },
  {
   "cell_type": "code",
   "execution_count": null,
   "metadata": {
    "collapsed": true
   },
   "outputs": [],
   "source": []
  }
 ],
 "metadata": {
  "anaconda-cloud": {},
  "kernelspec": {
   "display_name": "Python [default]",
   "language": "python",
   "name": "python3"
  },
  "language_info": {
   "codemirror_mode": {
    "name": "ipython",
    "version": 3
   },
   "file_extension": ".py",
   "mimetype": "text/x-python",
   "name": "python",
   "nbconvert_exporter": "python",
   "pygments_lexer": "ipython3",
   "version": "3.5.2"
  }
 },
 "nbformat": 4,
 "nbformat_minor": 0
}
