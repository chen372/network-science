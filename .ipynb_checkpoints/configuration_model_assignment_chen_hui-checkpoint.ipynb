{
 "cells": [
  {
   "cell_type": "markdown",
   "metadata": {},
   "source": [
    "# Applying the configuration model\n",
    "\n",
    "## Why random graphs?\n",
    "In an early assignment we compared a BA network with an ER graph and saw that the degree distribution and shortest path length were quite different. If all we wanted to know was how the degree distributions were different than an ER graph isn't an unreasonable choice. However, as you learned in the reading and from looking at several different real world graphs you should be aware by now that most graphs don't have a simple poisson degree distribution. So while the ER graph is a simple model, it unfortunately isn't a good null model. \n",
    "\n",
    "Null models are often used in hypothesis testing to aid in the acceptance/rejection of some alternative hypothesis. The null, being the default assumption. In network science null models can also be used for statistical hypothesis testing and for determining whether certain graph features are responsible for some characteristic of the graph or some pattern of behavior on the graph (e.g. epidemic models or random walkers). \n",
    "\n",
    "The null model should match some of the real graph's topological characteristics but should otherwise be random. The configuration model allows us to hold the degree sequence constant while investigating other graph characteristics.\n",
    "\n",
    "## Back to dolphins\n",
    "Lets build a mock hypothesis using the [dolphin social network](http://www-personal.umich.edu/~mejn/netdata/dolphins.zip). My hypothesis is that dolphins have a posh and very exclusive culture. Popular dolphins only hang with other popular dolphins, while the loners are stuck to mingle among themselves. A sad state of affairs, but social life is hard in the pods. How might we test this?\n",
    "\n",
    "There happens to be a similarity measure called [assortativity](https://en.wikipedia.org/wiki/Assortativity) where nodes of a certain type tend to be connected to nodes of the same type. In networkx there is a function called [degree assortativity](https://networkx.github.io/documentation/networkx-1.9.1/reference/generated/networkx.algorithms.assortativity.degree_assortativity_coefficient.html#networkx.algorithms.assortativity.degree_assortativity_coefficient) which tells us how strongly nodes of similar degree are attached to each other. If the network has high degree assortativity, then low degree nodes will be connected to other low degree nodes, and high degree nodes will be connected to other high degree nodes. Conversely, low degree assortativity (or even disassortativity) would imply no (or negative) relationship. \n",
    "\n",
    "Excellent, so we have a measure, but what do we compare our graph too? It wouldn't really be appropriate to compare it to an ER graph because the nodes all have different degrees which are about the same and normally distributed. Instead, we want to compare our dolphin network to a graph with the same degree distribution, and that is where the configuration model comes in."
   ]
  },
  {
   "cell_type": "markdown",
   "metadata": {},
   "source": [
    "## Testing the dolphin hypothesis\n",
    "We are going to do a rough test for our hypothesis by calculating the z-score for our dolphin network's degree assortativity coefficient. We will do this by generating a bunch of configuration models based on the dolphin degree sequence and calculating the assortativity coefficient for those null graphs. We can then compare our real network with the null model. If our z-score is high then it is unlikely that the dolphin network's assortativity can be accounted for by just the degree-sequence of a random graph, which means something more interesting is at work.\n",
    "\n",
    "Lets carry out this experiment:"
   ]
  },
  {
   "cell_type": "code",
   "execution_count": 2,
   "metadata": {
    "collapsed": false
   },
   "outputs": [
    {
     "name": "stdout",
     "output_type": "stream",
     "text": [
      "Graph\n"
     ]
    }
   ],
   "source": [
    "# We should load networkx and scipy (which has statistical tools)\n",
    "import networkx as nx\n",
    "import scipy.stats as stats\n",
    "\n",
    "# Lets load the dolphin social network (I converted it pajek format in gephi)\n",
    "dolphin_net = nx.read_pajek(\"dolphins.net\")\n",
    "\n",
    "# Often networkx will auto-load graphs as MultiGraphs\n",
    "# I know this network is simple, so I will make sure it is of graph type Graph.\n",
    "# Don't do this if your graph is directed. Directed graphs are of type DiGraph\n",
    "dolphin_net = nx.Graph(dolphin_net)\n",
    "print(type(dolphin_net).__name__)"
   ]
  },
  {
   "cell_type": "markdown",
   "metadata": {},
   "source": [
    "Now that the graph is loaded in lets calculate the degree assortativity:"
   ]
  },
  {
   "cell_type": "code",
   "execution_count": 3,
   "metadata": {
    "collapsed": false
   },
   "outputs": [
    {
     "name": "stdout",
     "output_type": "stream",
     "text": [
      "-0.0435940282153\n"
     ]
    }
   ],
   "source": [
    "real_assortativity = nx.degree_assortativity_coefficient(dolphin_net)\n",
    "print(real_assortativity)"
   ]
  },
  {
   "cell_type": "markdown",
   "metadata": {},
   "source": [
    "Interesting! So it appears that the network is disassortative, so it seems like our hypothesis about the dolphins is falling appart, but we still need to compare it to a null model in order to determine whether there is anything of interest to be pursued here.\n",
    "\n",
    "Networkx has a [configuration model](https://networkx.github.io/documentation/networkx-1.10/reference/generated/networkx.generators.degree_seq.configuration_model.html) function that can be used to generate our null models. We can use it by passing it a degree sequence, which we will do using the dolphin network:"
   ]
  },
  {
   "cell_type": "code",
   "execution_count": 4,
   "metadata": {
    "collapsed": false
   },
   "outputs": [],
   "source": [
    "# nx.degree returns a dictionary, but all we want is a list of the\n",
    "# degrees. We can get this by getting the dictionary values and\n",
    "# converting those values to a list.\n",
    "dolphin_degree_sequence = list(nx.degree(dolphin_net).values())\n",
    "\n",
    "# We need to generate enough null graphs to make a reasonable assessment of the null distribution\n",
    "model_assortativity = []\n",
    "for i in range(1000):\n",
    "    # Use the configuration model to create a null graph\n",
    "    null_graph = nx.configuration_model(dolphin_degree_sequence)\n",
    "    \n",
    "    # We need to remove self-loops and parallel edges because they don't make\n",
    "    # sense in this social network\n",
    "    null_graph = nx.Graph(null_graph) # removes parallel edges\n",
    "    null_graph.remove_edges_from(null_graph.selfloop_edges()) # removes self-loops\n",
    "    \n",
    "    # Calculate the model's assortativity and add it to the list\n",
    "    model_assortativity.append(nx.degree_assortativity_coefficient(null_graph))"
   ]
  },
  {
   "cell_type": "markdown",
   "metadata": {},
   "source": [
    "Now we can calculate the z-scores using scipy's [zscore](https://docs.scipy.org/doc/scipy/reference/generated/scipy.stats.zscore.html) function. It will print out the z-scores for all the elements of the distribution. If we assume that the dolphin network came from the null distribution then we can calculate the z-score for the dolphin network:"
   ]
  },
  {
   "cell_type": "code",
   "execution_count": 5,
   "metadata": {
    "collapsed": false
   },
   "outputs": [
    {
     "name": "stdout",
     "output_type": "stream",
     "text": [
      "0.0286134191272\n"
     ]
    }
   ],
   "source": [
    "# Prepend the real assortativity to the model list and have scipy calculate the zscores\n",
    "zscores = stats.zscore([real_assortativity] + model_assortativity)\n",
    "\n",
    "# Just print out the first score which corresponds to the real network\n",
    "print(zscores[0])"
   ]
  },
  {
   "cell_type": "markdown",
   "metadata": {},
   "source": [
    "A z-score corresponds to how many standard deviations out from the mean the sample is. A score of +1 would be one standard deviation above the mean. Since the score is only 0.047 we can safely conclude that the disassortativity we observed in the dolphin network is explainable entirely from the degree sequence and no other special properties of the network.\n",
    "\n",
    "However, this doesn't mean there aren't low-level features hidden in the network. The degree assortativity score is an aggregative measure, and it can obfuscate local deviations from assortativity that are non-random. There is also a score for the local degree assortativity, but we will not pursue that further here.\n",
    "\n",
    "Now that we have a distribution of null assortativities we can also visualize the distribution and plot our dolphin network's assortativity along with it:"
   ]
  },
  {
   "cell_type": "code",
   "execution_count": 6,
   "metadata": {
    "collapsed": false
   },
   "outputs": [
    {
     "data": {
      "image/png": "[encoded data removed]",
      "text/plain": [
       "<matplotlib.figure.Figure at 0x1b66bda9a90>"
      ]
     },
     "metadata": {},
     "output_type": "display_data"
    }
   ],
   "source": [
    "%matplotlib inline\n",
    "import matplotlib.pyplot as plt\n",
    "\n",
    "# Use the histogram function to plot the distribution of assortativity coefficients\n",
    "plt.hist(model_assortativity, bins=50)\n",
    "\n",
    "# axvline produces a vertical line at the designated x position on the graph\n",
    "plt.axvline(real_assortativity, lw=2, color=\"red\") #lw = 2 makes the line thicker\n",
    "plt.show()"
   ]
  },
  {
   "cell_type": "markdown",
   "metadata": {},
   "source": [
    "And there we have it! We have fair reason to conclude that not only is the hypothesis wrong but the surprising disassortativity we found really wasn't anything special after all. [note: reference for [`axvline`](http://matplotlib.org/api/pyplot_api.html?highlight=axvline#matplotlib.pyplot.axvline) in matplotlib]"
   ]
  },
  {
   "cell_type": "markdown",
   "metadata": {},
   "source": [
    "# Assignment\n",
    "\n",
    "1. Pick a graph of your choosing. You can use the graphs you are using for your project or any other real-world graph. Here are a couple places you can find some: [pajek datasets](http://vlado.fmf.uni-lj.si/pub/networks/data/), [Newman's datasets](http://www-personal.umich.edu/~mejn/netdata/). [note: if you use directed graphs makes sure you use the corresponding function [`directed_configuration_model`](https://networkx.github.io/documentation/networkx-1.10/reference/generated/networkx.generators.degree_seq.directed_configuration_model.html#networkx.generators.degree_seq.directed_configuration_model)]\n",
    "\n",
    "2. Construct two simple hypotheses around two different measures that you can calculate from the graph. Here is a [list of algorithms that networkx has](https://networkx.github.io/documentation/networkx-1.10/reference/algorithms.html). You aren't limited by measures networkx can calculate. However, do not use a measure that depends entirely on the degree sequence. For instance, it would be silly to compare average degree to the random networks generated by the configuration model because it uses the same degree sequence and so will have the same average degree.\n",
    "\n",
    "3. Carry out a simple hypothesis test for both hypotheses. It can be similar to what I showed here. You are welcome to carry it out in a more robust manner, but the focus of this assignment is getting a hang of using configuration models as null models. Here is a link to [Statistics for Hackers](https://speakerd.s3.amazonaws.com/presentations/7e68b43159d646cf81eda9e1bded8213/Statistics_for_Hackers_-_PyCon2016.pdf). It has a nice little python tutorial for how you can carry out hypothesis testing without all the hard math. Even if you don't use it for this assignment I highly recommend checking it out.\n",
    "\n",
    "4. Provide quantitative analysis and a graphical illustration of your results. It should be clear that your hypothesis was validated/invalidated/inconclusive.\n",
    "\n",
    "5. Answer the following questions:\n",
    "  * What graph are you using?\n",
    "  * What are you hypotheses?\n",
    "  * What measures will you be using to test your hypotheses? How do these measures accomplish this?\n",
    "  * Explain your results. Were they surprising? Did they confirm or reject your hypotheses?\n",
    "  * From these tests, what have you learned about the structure of the network you were investigating?\n",
    "\n",
    "6. Once you are complete submit your Jupyter notebook to Canvas."
   ]
  },
  {
   "cell_type": "markdown",
   "metadata": {},
   "source": [
    "# Answers to the Questions"
   ]
  },
  {
   "cell_type": "markdown",
   "metadata": {},
   "source": [
    "What graph are you using?\n",
    "\n",
    "The graph I am using in this assignment is based on data for my own research. It is a communication network in a breast cancer discussion board in 2008. Each node represents an user. If user A replies user B, there is a link from A to B. So it is a directed binary network. "
   ]
  },
  {
   "cell_type": "code",
   "execution_count": 7,
   "metadata": {
    "collapsed": false
   },
   "outputs": [
    {
     "data": {
      "text/plain": [
       "networkx.classes.digraph.DiGraph"
      ]
     },
     "execution_count": 7,
     "metadata": {},
     "output_type": "execute_result"
    }
   ],
   "source": [
    "mygraph = nx.read_gexf('breast_network2008.gexf')\n",
    "mygraph = nx.DiGraph(mygraph)\n",
    "type(mygraph)"
   ]
  },
  {
   "cell_type": "markdown",
   "metadata": {},
   "source": [
    "What are you hypotheses?\n",
    "What measures will you be using to test your hypotheses? How do these measures accomplish this?\n",
    "\n",
    "My hypotheses are 1) Low degree assortativity or disassortativity: Women who are more influential (i.e., high degree nodes) tend to provide support to others (i.e., low or average degree nodes).  \n",
    "\n",
    "2) Reciprocity: Women tend to reply to those who replied to them. \n",
    "\n",
    "I will use the measure \"degree assortativity\" to test the first hypotheis. The example above can be used to answer this question. The degree assortativity coefficient tells us how strongly nodes of similar degree are attached to each other. I will do a rough test for our hypothesis by calculating the z-score for my communication network's reciprocity. I will do this by generating a bunch of configuration models based on the degree sequence and calculating the degree assortativity coefficient for those null graphs. I can then compare our real network with the null model. If the z-score is close to zero then it is likely the network's assortativity can be accounted for by just the degree-sequence of a random graph. If it is very low (e.g., negative) then it is likely that there is dissortativity: High degree women tend to provide support to low degree women. \n",
    "\n",
    "I will use the measure \"reciprocity\" to test the second hypothesis. The reciprocity tells us the percentage of mutual ties in a network. I will do a rough test for my hypothesis by calculating the z-score for my communication network's reciprocity. I will do this by generating a bunch of configuration models based on the degree sequence and calculating the reciprocity for those null graphs. I can then compare our real network with the null model. If the z-score is high then it is unlikely that the communication network's reciprocity can be accounted for by just the degree-sequence of a random graph, which means the mutual ties are not random. That is, women do not reply posts randomly, but intentionally reply to those who replied to them. "
   ]
  },
  {
   "cell_type": "markdown",
   "metadata": {},
   "source": [
    "### Test for low degree assortativity or disassortativity"
   ]
  },
  {
   "cell_type": "code",
   "execution_count": 8,
   "metadata": {
    "collapsed": false
   },
   "outputs": [],
   "source": [
    "indegree_sequence = list(mygraph.in_degree().values())\n",
    "outdegree_sequence = list(mygraph.out_degree().values())"
   ]
  },
  {
   "cell_type": "code",
   "execution_count": 9,
   "metadata": {
    "collapsed": false
   },
   "outputs": [
    {
     "name": "stdout",
     "output_type": "stream",
     "text": [
      "-0.237810547499\n"
     ]
    }
   ],
   "source": [
    "real_assort = nx.degree_assortativity_coefficient(mygraph)\n",
    "print (real_assort)"
   ]
  },
  {
   "cell_type": "code",
   "execution_count": 10,
   "metadata": {
    "collapsed": true
   },
   "outputs": [],
   "source": [
    "# We need to generate enough null graphs to make a reasonable assessment of the null distribution\n",
    "model_assort = []\n",
    "for i in range(1000):\n",
    "    # Use the configuration model to create a null graph\n",
    "    null_graph = nx.directed_configuration_model(indegree_sequence, outdegree_sequence)\n",
    "    \n",
    "    # We need to remove self-loops and parallel edges because they don't make\n",
    "    # sense in this social network\n",
    "    null_graph = nx.DiGraph(null_graph) # removes parallel edges\n",
    "    null_graph.remove_edges_from(null_graph.selfloop_edges()) # removes self-loops\n",
    "    \n",
    "    # Calculate the model's assortativity and add it to the list\n",
    "    model_assort.append(nx.degree_assortativity_coefficient(null_graph))"
   ]
  },
  {
   "cell_type": "code",
   "execution_count": 11,
   "metadata": {
    "collapsed": false
   },
   "outputs": [
    {
     "name": "stdout",
     "output_type": "stream",
     "text": [
      "-8.65551616914\n"
     ]
    }
   ],
   "source": [
    "zscores = stats.zscore([real_assort] + model_assort)\n",
    "\n",
    "# Just print out the first score which corresponds to the real network\n",
    "print(zscores[0])"
   ]
  },
  {
   "cell_type": "code",
   "execution_count": 12,
   "metadata": {
    "collapsed": false
   },
   "outputs": [
    {
     "data": {
      "image/png": "[encoded data removed]",
      "text/plain": [
       "<matplotlib.figure.Figure at 0x1b669eaeac8>"
      ]
     },
     "metadata": {},
     "output_type": "display_data"
    }
   ],
   "source": [
    "%matplotlib inline\n",
    "import matplotlib.pyplot as plt\n",
    "\n",
    "# Use the histogram function to plot the distribution of assortativity coefficients\n",
    "plt.hist(model_assort, bins=50)\n",
    "\n",
    "# axvline produces a vertical line at the designated x position on the graph\n",
    "plt.axvline(real_assort, lw=2, color=\"red\") #lw = 2 makes the line thicker\n",
    "plt.show()"
   ]
  },
  {
   "cell_type": "markdown",
   "metadata": {},
   "source": [
    "The z-score has a very high negative value. And from graph below we can conclude there is a tendency of disassotativity. That is, high degree women tend to provide support to low degree women. This result confirms my hypothesis."
   ]
  },
  {
   "cell_type": "code",
   "execution_count": 13,
   "metadata": {
    "collapsed": false
   },
   "outputs": [],
   "source": [
    "from networkx import NetworkXError\n",
    "\n",
    "def reciprocity(G, nodes=None):\n",
    "    \"\"\"Compute the reciprocity in a directed graph.\n",
    "\n",
    "    The reciprocity of a directed graph is defined as the ratio\n",
    "    of the number of edges pointing in both directions to the total\n",
    "    number of edges in the graph.\n",
    "    Formally, :math:`r = |{(u,v) \\in G|(v,u) \\in G}| / |{(u,v) \\in G}|`.\n",
    "\n",
    "    The reciprocity of a single node u is defined similarly,\n",
    "    it is the ratio of the number of edges in both directions to\n",
    "    the total number of edges attached to node u.\n",
    "\n",
    "    Parameters\n",
    "    ----------\n",
    "    G : graph\n",
    "       A networkx directed graph\n",
    "    nodes : container of nodes, optional (default=whole graph)\n",
    "       Compute reciprocity for nodes in this container.\n",
    "\n",
    "    Returns\n",
    "    -------\n",
    "    out : dictionary\n",
    "       Reciprocity keyed by node label.\n",
    "\n",
    "    Notes\n",
    "    -----\n",
    "    The reciprocity is not defined for isolated nodes.\n",
    "    In such cases this function will return None.\n",
    "    \n",
    "    \"\"\"\n",
    "    # If `nodes` is not specified, calculate the reciprocity of the graph.\n",
    "    if nodes is None:\n",
    "        return overall_reciprocity(G)\n",
    "\n",
    "    # If `nodes` represents a single node in the graph, return only its\n",
    "    # reciprocity.\n",
    "    if nodes in G:\n",
    "        reciprocity = next(_reciprocity_iter(G,nodes))[1]\n",
    "        if reciprocity is None:\n",
    "            raise NetworkXError('Not defined for isolated nodes.')\n",
    "        else:\n",
    "            return reciprocity\n",
    "\n",
    "    # Otherwise, `nodes` represents an iterable of nodes, so return a\n",
    "    # dictionary mapping node to its reciprocity.\n",
    "    return dict(_reciprocity_iter(G,nodes))\n",
    "\n",
    "\n",
    "def _reciprocity_iter(G,nodes):\n",
    "    \"\"\" Return an iterator of (node, reciprocity).  \n",
    "\n",
    "    \"\"\"\n",
    "    n = G.nbunch_iter(nodes)\n",
    "    for node in n:\n",
    "        pred = set(G.predecessors(node))\n",
    "        succ = set(G.successors(node))\n",
    "        overlap = pred & succ\n",
    "        n_total = len(pred) + len(succ)\n",
    "\n",
    "        # Reciprocity is not defined for isolated nodes.\n",
    "        # Return None.\n",
    "        if n_total == 0:\n",
    "            yield (node,None)\n",
    "        else:\n",
    "            reciprocity = 2.0*float(len(overlap))/float(n_total)\n",
    "            yield (node,reciprocity)\n",
    "        \n",
    "def overall_reciprocity(G):\n",
    "    \"\"\"Compute the reciprocity for the whole graph.\n",
    "\n",
    "    See the doc of reciprocity for the definition.\n",
    "\n",
    "    Parameters\n",
    "    ----------\n",
    "    G : graph\n",
    "       A networkx graph\n",
    "    \n",
    "    \"\"\"\n",
    "    n_all_edge = G.number_of_edges()\n",
    "    n_overlap_edge = (n_all_edge - G.to_undirected().number_of_edges()) *2\n",
    "\n",
    "    if n_all_edge == 0:\n",
    "        raise NetworkXError(\"Not defined for empty graphs\")\n",
    "\n",
    "    return float(n_overlap_edge)/float(n_all_edge)"
   ]
  },
  {
   "cell_type": "code",
   "execution_count": 14,
   "metadata": {
    "collapsed": false
   },
   "outputs": [
    {
     "name": "stdout",
     "output_type": "stream",
     "text": [
      "0.20622160083886754\n"
     ]
    }
   ],
   "source": [
    "real_recp= reciprocity(mygraph)\n",
    "print (real_recp)"
   ]
  },
  {
   "cell_type": "code",
   "execution_count": 15,
   "metadata": {
    "collapsed": true
   },
   "outputs": [],
   "source": [
    "# We need to generate enough null graphs to make a reasonable assessment of the null distribution\n",
    "model_recp = []\n",
    "for i in range(1000):\n",
    "    # Use the configuration model to create a null graph\n",
    "    null_graph = nx.directed_configuration_model(indegree_sequence, outdegree_sequence)\n",
    "    \n",
    "    # We need to remove self-loops and parallel edges because they don't make\n",
    "    # sense in this social network\n",
    "    null_graph = nx.DiGraph(null_graph) # removes parallel edges\n",
    "    null_graph.remove_edges_from(null_graph.selfloop_edges()) # removes self-loops\n",
    "    \n",
    "    # Calculate the model's assortativity and add it to the list\n",
    "    model_recp.append(reciprocity(null_graph))"
   ]
  },
  {
   "cell_type": "code",
   "execution_count": 16,
   "metadata": {
    "collapsed": false
   },
   "outputs": [
    {
     "name": "stdout",
     "output_type": "stream",
     "text": [
      "14.6712495531\n"
     ]
    }
   ],
   "source": [
    "zscores = stats.zscore([real_recp] + model_recp)\n",
    "\n",
    "# Just print out the first score which corresponds to the real network\n",
    "print(zscores[0])"
   ]
  },
  {
   "cell_type": "code",
   "execution_count": 17,
   "metadata": {
    "collapsed": false
   },
   "outputs": [
    {
     "data": {
      "image/png": "[encoded data removed]",
      "text/plain": [
       "<matplotlib.figure.Figure at 0x1b66e48ff60>"
      ]
     },
     "metadata": {},
     "output_type": "display_data"
    }
   ],
   "source": [
    "%matplotlib inline\n",
    "import matplotlib.pyplot as plt\n",
    "\n",
    "# Use the histogram function to plot the distribution of reciprocity.\n",
    "plt.hist(model_recp, bins=50)\n",
    "\n",
    "# axvline produces a vertical line at the designated x position on the graph\n",
    "plt.axvline(real_recp, lw=2, color=\"red\") #lw = 2 makes the line thicker\n",
    "plt.show()"
   ]
  },
  {
   "cell_type": "markdown",
   "metadata": {
    "collapsed": true
   },
   "source": [
    "The z-score has a very high positive value. And from graph below we can conclude there is a tendency of reciprocity. That is, women tend to reply to those who replied to them. This result confirms my hypothesis."
   ]
  },
  {
   "cell_type": "markdown",
   "metadata": {},
   "source": [
    "From the hypotheses I tested and the results I got, I find that the online health community I examined is a very supportive one in which influential people provide support the peripheral members and there is a tendency for reciprocity. "
   ]
  },
  {
   "cell_type": "code",
   "execution_count": null,
   "metadata": {
    "collapsed": true
   },
   "outputs": [],
   "source": []
  }
 ],
 "metadata": {
  "anaconda-cloud": {},
  "kernelspec": {
   "display_name": "Python [conda root]",
   "language": "python",
   "name": "conda-root-py"
  },
  "language_info": {
   "codemirror_mode": {
    "name": "ipython",
    "version": 3
   },
   "file_extension": ".py",
   "mimetype": "text/x-python",
   "name": "python",
   "nbconvert_exporter": "python",
   "pygments_lexer": "ipython3",
   "version": "3.5.2"
  }
 },
 "nbformat": 4,
 "nbformat_minor": 1
}
