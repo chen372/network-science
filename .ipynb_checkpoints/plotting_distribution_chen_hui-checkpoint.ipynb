{
 "cells": [
  {
   "cell_type": "markdown",
   "metadata": {},
   "source": [
    "Download `terrorism.txt` from http://tuvalu.santafe.edu/~aaronc/powerlaws/data.htm (#7). "
   ]
  },
  {
   "cell_type": "code",
   "execution_count": 42,
   "metadata": {
    "collapsed": true
   },
   "outputs": [],
   "source": [
    "fname = 'terrorism.txt'"
   ]
  },
  {
   "cell_type": "markdown",
   "metadata": {},
   "source": [
    "You can open in a text editor or simply:"
   ]
  },
  {
   "cell_type": "code",
   "execution_count": 43,
   "metadata": {
    "collapsed": false
   },
   "outputs": [
    {
     "name": "stdout",
     "output_type": "stream",
     "text": [
      "1\n",
      "1\n",
      "1\n",
      "1\n",
      "1\n",
      "1\n",
      "1\n",
      "1\n",
      "1\n",
      "1\n"
     ]
    }
   ],
   "source": [
    "!head 'terrorism.txt'"
   ]
  },
  {
   "cell_type": "code",
   "execution_count": 3,
   "metadata": {
    "collapsed": false
   },
   "outputs": [
    {
     "name": "stderr",
     "output_type": "stream",
     "text": [
      "'tail' is not recognized as an internal or external command,\n",
      "operable program or batch file.\n"
     ]
    }
   ],
   "source": [
    "!tail 'terrorism.txt'"
   ]
  },
  {
   "cell_type": "markdown",
   "metadata": {},
   "source": [
    "This file contains a sorted list of \"degree\" or size values. In the case of terrorism, each line represents a terrorist attack and the number represents the number of deaths in the attack. Note that it doesn't have to come from a network. In network case, each line corresponds to a node and the values would represent the degree of the node. \n",
    "\n",
    "We can load the numbers like the following:"
   ]
  },
  {
   "cell_type": "code",
   "execution_count": 65,
   "metadata": {
    "collapsed": false
   },
   "outputs": [
    {
     "name": "stdout",
     "output_type": "stream",
     "text": [
      "[1, 1, 1, 1, 1] ... [317, 329, 331, 400, 2749]\n"
     ]
    }
   ],
   "source": [
    "nums = [int(x) for x in open(fname)]\n",
    "print(nums[:5], '...', nums[-5:])"
   ]
  },
  {
   "cell_type": "markdown",
   "metadata": {},
   "source": [
    "Let's try to plot the distribution. First, we want to import `matplotlib` for plotting. `%matplotlib inline` allows us to see the plot directly in this Jupyter notebook. "
   ]
  },
  {
   "cell_type": "code",
   "execution_count": 4,
   "metadata": {
    "collapsed": true
   },
   "outputs": [],
   "source": [
    "import matplotlib.pyplot as plt\n",
    "%matplotlib inline"
   ]
  },
  {
   "cell_type": "markdown",
   "metadata": {},
   "source": [
    "A useful container is `Counter`. It is a dictionary that is specialized for counting. "
   ]
  },
  {
   "cell_type": "code",
   "execution_count": 45,
   "metadata": {
    "collapsed": false
   },
   "outputs": [
    {
     "data": {
      "text/plain": [
       "Counter({1: 4, 2: 2})"
      ]
     },
     "execution_count": 45,
     "metadata": {},
     "output_type": "execute_result"
    }
   ],
   "source": [
    "from collections import Counter\n",
    "\n",
    "a = Counter([1,1,1,1,2,2])\n",
    "a"
   ]
  },
  {
   "cell_type": "markdown",
   "metadata": {},
   "source": [
    "Thus we can just pass the `nums` to get the degree distribution. First, let's count the number of data points that we have and construct the counter. "
   ]
  },
  {
   "cell_type": "code",
   "execution_count": 66,
   "metadata": {
    "collapsed": false
   },
   "outputs": [
    {
     "data": {
      "text/plain": [
       "9101"
      ]
     },
     "execution_count": 66,
     "metadata": {},
     "output_type": "execute_result"
    }
   ],
   "source": [
    "N = len(nums)\n",
    "N"
   ]
  },
  {
   "cell_type": "code",
   "execution_count": 67,
   "metadata": {
    "collapsed": false
   },
   "outputs": [],
   "source": [
    "nk = Counter(nums)"
   ]
  },
  {
   "cell_type": "markdown",
   "metadata": {},
   "source": [
    "now, we'll create two lists: `x` stores the unique degree or the values and `y` stores the number of data points with the value. For instance, according to"
   ]
  },
  {
   "cell_type": "code",
   "execution_count": 68,
   "metadata": {
    "collapsed": false
   },
   "outputs": [
    {
     "name": "stdout",
     "output_type": "stream",
     "text": [
      "4802 1600\n"
     ]
    }
   ],
   "source": [
    "print(nk[1], nk[2])"
   ]
  },
  {
   "cell_type": "markdown",
   "metadata": {},
   "source": [
    "There are 4802 data points with one death and 1600 data points with two deaths. If we just have them in our dataset, `x` and `y` will be:\n",
    "\n",
    "    x = [1, 2]\n",
    "    y = [4802, 1600]\n",
    "    \n",
    "Let's construct them. "
   ]
  },
  {
   "cell_type": "code",
   "execution_count": 69,
   "metadata": {
    "collapsed": true
   },
   "outputs": [],
   "source": [
    "x = []\n",
    "y = []\n",
    "for k in sorted(nk):\n",
    "    x.append(k)\n",
    "    y.append(nk[k])"
   ]
  },
  {
   "cell_type": "markdown",
   "metadata": {},
   "source": [
    "# Directly plotting the degree distribution\n",
    "\n",
    "If we just plot them, it's the raw (degree) distribution. Let's plot in the normal scale first. "
   ]
  },
  {
   "cell_type": "code",
   "execution_count": 13,
   "metadata": {
    "collapsed": false
   },
   "outputs": [
    {
     "data": {
      "text/plain": [
       "<matplotlib.collections.PathCollection at 0x1876150c860>"
      ]
     },
     "execution_count": 13,
     "metadata": {},
     "output_type": "execute_result"
    },
    {
     "data": {
      "image/png": "[encoded data removed]",
      "text/plain": [
       "<matplotlib.figure.Figure at 0x18761467358>"
      ]
     },
     "metadata": {},
     "output_type": "display_data"
    }
   ],
   "source": [
    "plt.scatter(x,y)"
   ]
  },
  {
   "cell_type": "code",
   "execution_count": 14,
   "metadata": {
    "collapsed": false
   },
   "outputs": [
    {
     "data": {
      "text/plain": [
       "[<matplotlib.lines.Line2D at 0x18761d505c0>]"
      ]
     },
     "execution_count": 14,
     "metadata": {},
     "output_type": "execute_result"
    },
    {
     "data": {
      "image/png": "[encoded data removed]",
      "text/plain": [
       "<matplotlib.figure.Figure at 0x187614e33c8>"
      ]
     },
     "metadata": {},
     "output_type": "display_data"
    }
   ],
   "source": [
    "plt.plot(x,y)"
   ]
  },
  {
   "cell_type": "markdown",
   "metadata": {},
   "source": [
    "## Log-Log scale\n",
    "\n",
    "This is how a heavy-tailed distribution look like in normal scale. You can't see much. Let's try log-log scale. "
   ]
  },
  {
   "cell_type": "code",
   "execution_count": 70,
   "metadata": {
    "collapsed": false
   },
   "outputs": [
    {
     "data": {
      "text/plain": [
       "[<matplotlib.lines.Line2D at 0x1a165988c50>]"
      ]
     },
     "execution_count": 70,
     "metadata": {},
     "output_type": "execute_result"
    },
    {
     "data": {
      "image/png": "[encoded data removed]",
      "text/plain": [
       "<matplotlib.figure.Figure at 0x1a1659889e8>"
      ]
     },
     "metadata": {},
     "output_type": "display_data"
    }
   ],
   "source": [
    "plt.ylim((0.7, 10000)) # more clearly show the points at the bottom. \n",
    "plt.xlabel('Number of deaths, x')\n",
    "plt.ylabel(\"n(X)\")\n",
    "plt.loglog(x,y, 'o', markersize=3, markerfacecolor='none')"
   ]
  },
  {
   "cell_type": "markdown",
   "metadata": {},
   "source": [
    "# Log-binning\n",
    "\n",
    "Log-binning indicates a way to create bins for histogram in a way that they are equally distributed in log-scale. So, if the first bin is [1.0, 2.0], the next bin will be [2.0, 4.0], and [4.0, 8.0], and so on. `numpy` has a very conveninent function for this. As we know that the data ranges from 1.0 to several thousands, we can set the range to be [0.0, 4.0] (`0.0 = log 1.0; 4.0 = log 10000`). "
   ]
  },
  {
   "cell_type": "code",
   "execution_count": 71,
   "metadata": {
    "collapsed": false
   },
   "outputs": [
    {
     "data": {
      "text/plain": [
       "array([  1.00000000e+00,   1.26638017e+00,   1.60371874e+00,\n",
       "         2.03091762e+00,   2.57191381e+00,   3.25702066e+00,\n",
       "         4.12462638e+00,   5.22334507e+00,   6.61474064e+00,\n",
       "         8.37677640e+00,   1.06081836e+01,   1.34339933e+01,\n",
       "         1.70125428e+01,   2.15443469e+01,   2.72833338e+01,\n",
       "         3.45510729e+01,   4.37547938e+01,   5.54102033e+01,\n",
       "         7.01703829e+01,   8.88623816e+01,   1.12533558e+02,\n",
       "         1.42510267e+02,   1.80472177e+02,   2.28546386e+02,\n",
       "         2.89426612e+02,   3.66524124e+02,   4.64158883e+02,\n",
       "         5.87801607e+02,   7.44380301e+02,   9.42668455e+02,\n",
       "         1.19377664e+03,   1.51177507e+03,   1.91448198e+03,\n",
       "         2.42446202e+03,   3.07029063e+03,   3.88815518e+03,\n",
       "         4.92388263e+03,   6.23550734e+03,   7.89652287e+03,\n",
       "         1.00000000e+04])"
      ]
     },
     "execution_count": 71,
     "metadata": {},
     "output_type": "execute_result"
    }
   ],
   "source": [
    "import numpy as np\n",
    "\n",
    "bins = np.logspace(0.0, 4.0, num=40)\n",
    "bins"
   ]
  },
  {
   "cell_type": "markdown",
   "metadata": {},
   "source": [
    "In log-binnning, you *multiply* a constant to create the subsequent bin, rather than *adding* a constant. "
   ]
  },
  {
   "cell_type": "markdown",
   "metadata": {},
   "source": [
    "Then we can literally draw a \"histogram\" based on these bins. "
   ]
  },
  {
   "cell_type": "code",
   "execution_count": 72,
   "metadata": {
    "collapsed": false
   },
   "outputs": [
    {
     "data": {
      "image/png": "[encoded data removed]",
      "text/plain": [
       "<matplotlib.figure.Figure at 0x1a165c22d30>"
      ]
     },
     "metadata": {},
     "output_type": "display_data"
    }
   ],
   "source": [
    "ax = plt.subplot(1,1,1)\n",
    "\n",
    "ax.set_xlabel('Number of deaths, x')\n",
    "ax.set_ylabel('p(x)')\n",
    "ax.hist(nums, bins=bins, normed=True)\n",
    "ax.set_xscale('log')\n",
    "ax.set_yscale('log')"
   ]
  },
  {
   "cell_type": "markdown",
   "metadata": {},
   "source": [
    "Alternatively, we can obtain the histogram using [`numpy`'s `histogram` function](http://docs.scipy.org/doc/numpy/reference/generated/numpy.histogram.html) and then plot the points in the same style as we did with the raw degree distribution. "
   ]
  },
  {
   "cell_type": "code",
   "execution_count": 77,
   "metadata": {
    "collapsed": false
   },
   "outputs": [
    {
     "data": {
      "text/plain": [
       "[<matplotlib.lines.Line2D at 0x1a16866a6d8>]"
      ]
     },
     "execution_count": 77,
     "metadata": {},
     "output_type": "execute_result"
    },
    {
     "data": {
      "image/png": "[encoded data removed]",
      "text/plain": [
       "<matplotlib.figure.Figure at 0x1a1670d7320>"
      ]
     },
     "metadata": {},
     "output_type": "display_data"
    }
   ],
   "source": [
    "Y, X = np.histogram(nums, bins=bins, normed=True)\n",
    "\n",
    "X = [x*np.sqrt(bins[1]) for x in X][:-1]  # find the center point for each bin. can you explain this?\n",
    "\n",
    "plt.ylim((0.00001, 1))\n",
    "plt.xlabel('Number of deaths, x')\n",
    "plt.ylabel(\"n(X)\")\n",
    "plt.loglog(X,Y, 'o', markersize=3, markerfacecolor='none')"
   ]
  },
  {
   "cell_type": "code",
   "execution_count": 73,
   "metadata": {
    "collapsed": false
   },
   "outputs": [
    {
     "name": "stdout",
     "output_type": "stream",
     "text": [
      "40 39\n",
      "[  1.00000000e+00   1.26638017e+00   1.60371874e+00   2.03091762e+00\n",
      "   2.57191381e+00   3.25702066e+00   4.12462638e+00   5.22334507e+00\n",
      "   6.61474064e+00   8.37677640e+00   1.06081836e+01   1.34339933e+01\n",
      "   1.70125428e+01   2.15443469e+01   2.72833338e+01   3.45510729e+01\n",
      "   4.37547938e+01   5.54102033e+01   7.01703829e+01   8.88623816e+01\n",
      "   1.12533558e+02   1.42510267e+02   1.80472177e+02   2.28546386e+02\n",
      "   2.89426612e+02   3.66524124e+02   4.64158883e+02   5.87801607e+02\n",
      "   7.44380301e+02   9.42668455e+02   1.19377664e+03   1.51177507e+03\n",
      "   1.91448198e+03   2.42446202e+03   3.07029063e+03   3.88815518e+03\n",
      "   4.92388263e+03   6.23550734e+03   7.89652287e+03   1.00000000e+04] [4802    0 1600    0  750  444  287  190  244  177  167  134   69   74   42\n",
      "   30   24   21   12   10    7    4    4    4    3    1    0    0    0    0\n",
      "    0    0    0    1    0    0    0    0    0]\n"
     ]
    }
   ],
   "source": [
    "Y, X = np.histogram(nums, bins=bins, normed=False)\n",
    "print (len(X), len(Y))\n",
    "print (X, Y)"
   ]
  },
  {
   "cell_type": "markdown",
   "metadata": {},
   "source": [
    "# Q: Can you plot the complementary cumulative distribution function?\n",
    "\n",
    "First of all, you may be confused between CDF (cumulative distribution function) and CCDF (complementary cumulative distribution function). They are all \"cumulative\", but the difference is that the former starts from left and the latter starts from the right. \n",
    "\n",
    "So, as [Power laws, Pareto distributions and Zipf's law](https://arxiv.org/pdf/cond-mat/0412004v3.pdf) (Fig. 3 (d)) paper explains, plotting the CCDF (complementary cumulative distribution function) is probably the best method to show a heavy-tailed distribution. Below, calculate the CCDF and plot it in a similar style (log-log, with symbols). "
   ]
  },
  {
   "cell_type": "code",
   "execution_count": 74,
   "metadata": {
    "collapsed": false
   },
   "outputs": [
    {
     "name": "stdout",
     "output_type": "stream",
     "text": [
      "[4802    0 1600    0  750]\n",
      "[4802 4802 6402 6402 7152]\n"
     ]
    }
   ],
   "source": [
    "# your code and results\n",
    "Y, X = np.histogram(nums, bins=bins, normed=False)\n",
    "X = [x*np.sqrt(bins[1]) for x in X][:-1]  # find the center point for each bin.\n",
    "#print (X[:10])\n",
    "#print (Y[:10])\n",
    "\n",
    "cum = np.cumsum(Y)\n",
    "ccum = 1-cum/sum(Y)\n",
    "\n",
    "plt.ylim((0.00001, 1))\n",
    "plt.xlabel('Number of deaths, x')\n",
    "plt.ylabel(\"CCDF(X)\")\n",
    "plt.loglog(X,ccum, 'o', markersize=3, markerfacecolor='none')"
   ]
  }
 ],
 "metadata": {
  "anaconda-cloud": {},
  "kernelspec": {
   "display_name": "Python [default]",
   "language": "python",
   "name": "python3"
  },
  "language_info": {
   "codemirror_mode": {
    "name": "ipython",
    "version": 3
   },
   "file_extension": ".py",
   "mimetype": "text/x-python",
   "name": "python",
   "nbconvert_exporter": "python",
   "pygments_lexer": "ipython3",
   "version": "3.5.2"
  }
 },
 "nbformat": 4,
 "nbformat_minor": 1
}
