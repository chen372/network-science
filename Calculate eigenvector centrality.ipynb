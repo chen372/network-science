{
 "cells": [
  {
   "cell_type": "code",
   "execution_count": 20,
   "metadata": {
    "collapsed": true
   },
   "outputs": [],
   "source": [
    "import networkx as nx\n",
    "import numpy as np"
   ]
  },
  {
   "cell_type": "code",
   "execution_count": 10,
   "metadata": {
    "collapsed": false
   },
   "outputs": [
    {
     "data": {
      "text/plain": [
       "{0: 1, 1: 7, 2: 1, 3: 3, 4: 8, 5: 2, 6: 2, 7: 2, 8: 2, 9: 1, 10: 1}"
      ]
     },
     "execution_count": 10,
     "metadata": {},
     "output_type": "execute_result"
    }
   ],
   "source": [
    "# build a graph\n",
    "g = nx.Graph()\n",
    "x = [0,1,1,1,1,1,1,1,3,4,4,4,4,4,4]\n",
    "y = [3,2,3,4,5,6,7,8,4,5,6,7,8,9,10]\n",
    "g.add_edges_from(zip(x,y))\n",
    "nx.degree(g)"
   ]
  },
  {
   "cell_type": "code",
   "execution_count": 29,
   "metadata": {
    "collapsed": true
   },
   "outputs": [],
   "source": [
    "A = np.matrix([[0,0,0,1,0,0,0,0,0,0,0], \n",
    "              [0,0,1,1,1,1,1,1,1,0,0],\n",
    "              [0,1,0,0,0,0,0,0,0,0,0],\n",
    "              [1,1,0,0,1,0,0,0,0,0,0],\n",
    "              [0,1,0,1,0,1,1,1,1,1,1],\n",
    "              [0,1,0,0,1,0,0,0,0,0,0],\n",
    "              [0,1,0,0,1,0,0,0,0,0,0],\n",
    "              [0,1,0,0,1,0,0,0,0,0,0],\n",
    "              [0,1,0,0,1,0,0,0,0,0,0],\n",
    "              [0,0,0,0,1,0,0,0,0,0,0],\n",
    "              [0,1,0,0,0,0,0,0,0,0,0]])"
   ]
  },
  {
   "cell_type": "code",
   "execution_count": 44,
   "metadata": {
    "collapsed": false
   },
   "outputs": [
    {
     "name": "stdout",
     "output_type": "stream",
     "text": [
      "[[ 4  7  0  1 10  0  0  0  0  0  0]]\n",
      "22\n"
     ]
    },
    {
     "data": {
      "text/plain": [
       "matrix([[ 2. ,  3.5,  0. ,  0.5,  5. ,  0. ,  0. ,  0. ,  0. ,  0. ,  0. ]])"
      ]
     },
     "execution_count": 44,
     "metadata": {},
     "output_type": "execute_result"
    }
   ],
   "source": [
    "x1 = [1,0,0,4,0,1,0,2,0,3,0]\n",
    "x1 = x1*A\n",
    "print (x1)\n",
    "print (x1.sum())\n",
    "(x1/x1.sum())*11\n",
    "#len(A)"
   ]
  },
  {
   "cell_type": "code",
   "execution_count": 99,
   "metadata": {
    "collapsed": true
   },
   "outputs": [],
   "source": [
    "def get_eigenvector_centrality(A):\n",
    "    n = len(A)\n",
    "    x0 = np.array([0]*n)\n",
    "    #x1 = np.array([1,0,0,4,0,1,0,2,0,3,0])\n",
    "    x1 = np.array([1,1,2,5,0,0,0,0,0,0,0])\n",
    "    eps = 1/10**6\n",
    "    iter = 0;\n",
    "    while ((np.absolute((x0 - x1)).sum()) > eps):\n",
    "        x0 = x1\n",
    "        x1 = x1*A\n",
    "        x1 = (x1/x1.sum())*n\n",
    "        iter += 1\n",
    "    return x1    "
   ]
  },
  {
   "cell_type": "code",
   "execution_count": 100,
   "metadata": {
    "collapsed": false
   },
   "outputs": [
    {
     "data": {
      "text/plain": [
       "matrix([[ 0.27654966,  2.06763837,  0.52399872,  1.09123319,  1.96169198,\n",
       "          1.02114759,  1.02114759,  1.02114759,  1.02114759,  0.49714887,\n",
       "          0.49714887]])"
      ]
     },
     "execution_count": 100,
     "metadata": {},
     "output_type": "execute_result"
    }
   ],
   "source": [
    "res = get_eigenvector_centrality(A)\n",
    "res"
   ]
  },
  {
   "cell_type": "code",
   "execution_count": null,
   "metadata": {
    "collapsed": true
   },
   "outputs": [],
   "source": [
    "# Eigenvector centrality (direct method)\n",
    "#INPUT\n",
    "# g = graph\n",
    "# t = precision\n",
    "# OUTPUT\n",
    "# A list with:\n",
    "# vector = centrality vector\n",
    "# value = eigenvalue\n",
    "# iter = number of iterations\n",
    "\n",
    "eigenvector.centrality = function(g, t) {\n",
    "  A = get.adjacency(g);\n",
    "  n = vcount(g);\n",
    "  x0 = rep(0, n);\n",
    "  x1 = rep(1/n, n);\n",
    "  eps = 1/10^t;\n",
    "  iter = 0;\n",
    "  while (sum(abs(x0 - x1)) > eps) {\n",
    "    x0 = x1;\n",
    "    x1 = as.vector(x1 %*% A);\n",
    "    m = x1[which.max(abs(x1))];\n",
    "    x1 = x1 / m;\n",
    "    iter = iter + 1;\n",
    "  } \n",
    "  return(list(vector = x1, value = m, iter = iter))\n",
    "}"
   ]
  }
 ],
 "metadata": {
  "anaconda-cloud": {},
  "kernelspec": {
   "display_name": "Python [default]",
   "language": "python",
   "name": "python3"
  },
  "language_info": {
   "codemirror_mode": {
    "name": "ipython",
    "version": 3
   },
   "file_extension": ".py",
   "mimetype": "text/x-python",
   "name": "python",
   "nbconvert_exporter": "python",
   "pygments_lexer": "ipython3",
   "version": "3.5.2"
  }
 },
 "nbformat": 4,
 "nbformat_minor": 1
}
