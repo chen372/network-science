{
 "cells": [
  {
   "cell_type": "markdown",
   "metadata": {},
   "source": [
    "# Assignment: Scale-free networks\n",
    "\n",
    "## 1. Implement BA algorithm\n",
    "For this assignment you will be implementing the BA algorithm from the reading (see [Barabasi Ch 5.3](http://barabasi.com/networksciencebook/)). Create a function that takes `n` the number of nodes for the graph, and `m_o` the initial number of nodes, as arguments and returns a networkx graph with a scale-free degree distribution.\n",
    "\n",
    "(Hint1: `numpy`'s [`np.random.choice`](http://docs.scipy.org/doc/numpy/reference/generated/numpy.random.choice.html) has optional arguments for weighted random selection)\n",
    "\n",
    "(Hint2: there is another very simple method to sample nodes based on their degree. In doing so, you'll create a long list.)"
   ]
  },
  {
   "cell_type": "code",
   "execution_count": 1,
   "metadata": {
    "collapsed": false
   },
   "outputs": [],
   "source": [
    "import numpy as np\n",
    "import networkx as nx\n",
    "import random\n",
    "%matplotlib inline\n",
    "import matplotlib.pyplot as plt"
   ]
  },
  {
   "cell_type": "code",
   "execution_count": 2,
   "metadata": {
    "collapsed": true
   },
   "outputs": [],
   "source": [
    "# Write your function here\n",
    "def BA_model(n, m_o):\n",
    "    # first we create a random graph with m_o nodes, and each node has at least one link. \n",
    "    g = nx.Graph()\n",
    "    g.add_nodes_from(list(range(m_o))) \n",
    "    g.add_edges_from(zip([m_o-1]*m_o,list(range(m_o))))  #total degree is 2*m_o\n",
    "    # next we add new node for each timestep t\n",
    "    source = m_o  # the new-added node (i.e., 5) which has m links, m <=m_o, we can simply assume that m = m_o\n",
    "    targets = list(range(m_o+1))   # all existing nodes, plus new-node, i.e., [0, 1, 2, 3, 4, 5]\n",
    "\n",
    "    while source < n:\n",
    "        p = []\n",
    "        for node in g:\n",
    "            k = g.degree(node)   # calculate k(i)\n",
    "            p.append(k/(2*m_o + m_o))   # p is the prob that a link to new node connects to node i    \n",
    "        p.append(m_o/(2*m_o + m_o))  # finally add prob of self-loop\n",
    "        #print (p)\n",
    "        targets = np.random.choice(range(len(p)), m_o, p) #select 5 nodes from existing nodes based on their degrees\n",
    "        #print (targets)\n",
    "        g.add_edges_from(zip([source]*m_o, targets))   \n",
    "        source += 1\n",
    "    return g"
   ]
  },
  {
   "cell_type": "markdown",
   "metadata": {},
   "source": [
    "## 2. BA graph analysis\n",
    "Test your algorithm by creating a graph with `N = 1200` and `m_o = 7`. Calculate (and print) the average shortest path length of the graph:"
   ]
  },
  {
   "cell_type": "code",
   "execution_count": 3,
   "metadata": {
    "collapsed": false
   },
   "outputs": [
    {
     "name": "stdout",
     "output_type": "stream",
     "text": [
      "2.989695579649708\n"
     ]
    }
   ],
   "source": [
    "# Your code here\n",
    "BA_graph = BA_model(1200, 7)\n",
    "print(nx.average_shortest_path_length(BA_graph))"
   ]
  },
  {
   "cell_type": "markdown",
   "metadata": {},
   "source": [
    "Calculate (and print) the average clustering coefficient of the graph:"
   ]
  },
  {
   "cell_type": "code",
   "execution_count": 4,
   "metadata": {
    "collapsed": false
   },
   "outputs": [
    {
     "name": "stdout",
     "output_type": "stream",
     "text": [
      "0.013832200450550326\n"
     ]
    }
   ],
   "source": [
    "# Your code here\n",
    "print(nx.average_clustering(BA_graph))"
   ]
  },
  {
   "cell_type": "markdown",
   "metadata": {},
   "source": [
    "Now plot a histogram of the degree distribution of the graph (remember to include `%matplotlib inline` for plotting in Jupyter):"
   ]
  },
  {
   "cell_type": "code",
   "execution_count": 5,
   "metadata": {
    "collapsed": false
   },
   "outputs": [
    {
     "data": {
      "image/png": "[encoded data removed]",
      "text/plain": [
       "<matplotlib.figure.Figure at 0x201d5840358>"
      ]
     },
     "metadata": {},
     "output_type": "display_data"
    }
   ],
   "source": [
    "# Your code here\n",
    "degree = []\n",
    "for node in BA_graph:\n",
    "    degree.append(BA_graph.degree(node))\n",
    "pdf, bins, patch = plt.hist(degree, bins=100)"
   ]
  },
  {
   "cell_type": "markdown",
   "metadata": {},
   "source": [
    "## 3. BA and ER comparison\n",
    "Now lets compare the scale-free and random graphs. Create a random graph with the same number of nodes and about the same number of edges, then calculate the average shortest path length of that graph:"
   ]
  },
  {
   "cell_type": "code",
   "execution_count": 6,
   "metadata": {
    "collapsed": false
   },
   "outputs": [
    {
     "name": "stdout",
     "output_type": "stream",
     "text": [
      "2.96101195440645\n"
     ]
    }
   ],
   "source": [
    "# Your code here\n",
    "e = BA_graph.number_of_edges()\n",
    "random_graph = nx.erdos_renyi_graph(1200, 2*e/(1200*1199))\n",
    "print(nx.average_shortest_path_length(random_graph))"
   ]
  },
  {
   "cell_type": "markdown",
   "metadata": {},
   "source": [
    "Calculate (and print) the average clustering coefficient of the graph:"
   ]
  },
  {
   "cell_type": "code",
   "execution_count": 7,
   "metadata": {
    "collapsed": false
   },
   "outputs": [
    {
     "name": "stdout",
     "output_type": "stream",
     "text": [
      "0.011002084311671637\n"
     ]
    }
   ],
   "source": [
    "# Your code here\n",
    "print(nx.average_clustering(random_graph))"
   ]
  },
  {
   "cell_type": "markdown",
   "metadata": {},
   "source": [
    "Now plot a histogram of the degree distribution of the random graph:"
   ]
  },
  {
   "cell_type": "code",
   "execution_count": 8,
   "metadata": {
    "collapsed": false
   },
   "outputs": [
    {
     "data": {
      "image/png": "[encoded data removed]",
      "text/plain": [
       "<matplotlib.figure.Figure at 0x201d5abfe80>"
      ]
     },
     "metadata": {},
     "output_type": "display_data"
    }
   ],
   "source": [
    "# Your code here\n",
    "degree = []\n",
    "for node in random_graph:\n",
    "    degree.append(random_graph.degree(node))\n",
    "pdf, bins, patch = plt.hist(degree, bins=100)"
   ]
  },
  {
   "cell_type": "markdown",
   "metadata": {},
   "source": [
    "How do the average shortest path lengths, average clustering coefficients, and degree distributions between the graphs compare?"
   ]
  },
  {
   "cell_type": "markdown",
   "metadata": {},
   "source": [
    "(use this markdown cell for your response)"
   ]
  },
  {
   "cell_type": "markdown",
   "metadata": {
    "collapsed": true
   },
   "source": [
    "For average shortest path lengths: BA graph is similar to ER graph. \n",
    "For average clustering coefficients: BA graph > ER graph.\n",
    "For degree distribution: BA graph is power law, and ER graph is normal.   "
   ]
  },
  {
   "cell_type": "markdown",
   "metadata": {},
   "source": [
    "## 4. Preferential attachment without using the degree\n",
    "\n",
    "As explained in a video, it is possible to achieve the linear preferential attachment without calculating the degree by using the principle that we learned in the friendship paradox. Implement this version and see whether you can get a power-law degree distribution.  \n",
    "\n",
    "Helpful page:\n",
    "- https://networkx.github.io/documentation/networkx-1.10/reference/generated/networkx.Graph.edges.html \n"
   ]
  },
  {
   "cell_type": "code",
   "execution_count": 9,
   "metadata": {
    "collapsed": true
   },
   "outputs": [],
   "source": [
    "# your code here\n",
    "# Write your function here\n",
    "def BA_model2(n, m_o):\n",
    "    # first we create a random graph with m_o nodes, and each node has at least one link. \n",
    "    g = nx.Graph()\n",
    "    g.add_nodes_from(list(range(m_o))) \n",
    "    g.add_edges_from(zip([m_o-1]*m_o,list(range(m_o))))\n",
    "    # next we add new node for each timestep t\n",
    "    source = m_o  # the new-added node\n",
    "    targets = np.random.choice(range(m_o), m_o)  # randomly choose m_o nodes (targets)\n",
    "    g.add_edges_from(zip([source]*m_o, targets))   # new node adds m_o links with the target nodes\n",
    "\n",
    "    while source < n:\n",
    "        # we follow the edges of each target and find all the other linked nodes, save them in the pool\n",
    "        pool = [] \n",
    "        for target in targets:\n",
    "            for e in g.edges_iter(target):\n",
    "                pool.append(e[1])    \n",
    "        # randomly choose m_o nodes from the pool as targets\n",
    "        targets = []    \n",
    "        for i in range(m_o):\n",
    "            targets.append(random.choice(pool))\n",
    "        g.add_edges_from(zip([source]*m_o, targets))    \n",
    "        source += 1\n",
    "    return g"
   ]
  },
  {
   "cell_type": "code",
   "execution_count": 14,
   "metadata": {
    "collapsed": false
   },
   "outputs": [
    {
     "data": {
      "image/png": "[encoded data removed]",
      "text/plain": [
       "<matplotlib.figure.Figure at 0x201d77abef0>"
      ]
     },
     "metadata": {},
     "output_type": "display_data"
    }
   ],
   "source": [
    "G = BA_model2(1200, 7)\n",
    "degree = []\n",
    "for node in G:\n",
    "    degree.append(G.degree(node))\n",
    "pdf, bins, patch = plt.hist(degree, bins=100)"
   ]
  },
  {
   "cell_type": "markdown",
   "metadata": {},
   "source": [
    "## 5. Visualizing a scale-free graph\n",
    "Write your graph to file and then load it into Gephi and make it presentable. Save your graph visualization as a PDF and upload it with this Jupyter notebook to Canvas."
   ]
  },
  {
   "cell_type": "code",
   "execution_count": 15,
   "metadata": {
    "collapsed": true
   },
   "outputs": [],
   "source": [
    "nx.write_gml(BA_graph, 'BA_graph1.gml')\n",
    "nx.write_gml(G, 'BA_graph2.gml')"
   ]
  },
  {
   "cell_type": "code",
   "execution_count": null,
   "metadata": {
    "collapsed": true
   },
   "outputs": [],
   "source": []
  }
 ],
 "metadata": {
  "anaconda-cloud": {},
  "kernelspec": {
   "display_name": "Python [default]",
   "language": "python",
   "name": "python3"
  },
  "language_info": {
   "codemirror_mode": {
    "name": "ipython",
    "version": 3
   },
   "file_extension": ".py",
   "mimetype": "text/x-python",
   "name": "python",
   "nbconvert_exporter": "python",
   "pygments_lexer": "ipython3",
   "version": "3.5.2"
  }
 },
 "nbformat": 4,
 "nbformat_minor": 0
}
