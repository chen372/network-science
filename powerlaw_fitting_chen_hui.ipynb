{
 "cells": [
  {
   "cell_type": "markdown",
   "metadata": {},
   "source": [
    "# Praxis: Fitting power-laws to data\n",
    "In this assigment we will be combining what we learned this week to fit a power-law to some data and then visualize both the power-law and the fit.\n",
    "\n",
    "## (1) Getting the data\n",
    "First we need to generate some data to fit to. We will use the degree distribution from the Barabasi-Albert graph because we know that it is power-law distributed. Create a BA graph using networkx with `n = 2500`, `m = 8`, and `seed=1` (adjust `n` or `m` if your computer has difficulty creating the graph ). The seed will prevent the graph from changing each time you run the code.\n",
    "\n",
    "Then build a list/array of the node degrees."
   ]
  },
  {
   "cell_type": "code",
   "execution_count": 1,
   "metadata": {
    "collapsed": true
   },
   "outputs": [],
   "source": [
    "# your code here\n",
    "import networkx as nx\n",
    "import numpy as np\n",
    "import matplotlib.pyplot as plt\n",
    "%matplotlib inline"
   ]
  },
  {
   "cell_type": "code",
   "execution_count": 2,
   "metadata": {
    "collapsed": false
   },
   "outputs": [],
   "source": [
    "BA_graph = nx.barabasi_albert_graph(n=1200, m=8, seed=1)"
   ]
  },
  {
   "cell_type": "code",
   "execution_count": 3,
   "metadata": {
    "collapsed": false
   },
   "outputs": [],
   "source": [
    "node_degree = {node: BA_graph.degree(node) for node in BA_graph}\n",
    "degree = list(node_degree.values())"
   ]
  },
  {
   "cell_type": "code",
   "execution_count": 4,
   "metadata": {
    "collapsed": false
   },
   "outputs": [
    {
     "name": "stdout",
     "output_type": "stream",
     "text": [
      "[83, 50, 69, 86, 111, 35, 48, 84, 133, 183]\n"
     ]
    }
   ],
   "source": [
    "print (degree[:10])"
   ]
  },
  {
   "cell_type": "markdown",
   "metadata": {},
   "source": [
    "## (2) Find the power-law cut-off\n",
    "It is normally the case in power-law distributed data that there is a value below which the power-law relation does not hold. We will express this value as `xmin`. In order to fit the scaling exponent, we first need to estimate `xmin` and then discard all values in the distribution below it.\n",
    "\n",
    "You can use Aaron Clauset's [powerlaw](http://tuvalu.santafe.edu/~aaronc/powerlaws/) package to determine `xmin`. The package can be installed using pip from the commandline: `pip install powerlaw`\n",
    "\n",
    "The package should then be available for import:\n",
    "\n",
    "```\n",
    "import powerlaw\n",
    "```\n",
    "\n",
    "And can be called using (see [documentation for additional arguments](http://arxiv.org/pdf/1305.0215v3.pdf)):\n",
    "\n",
    "```\n",
    "fit = powerlaw.Fit(some_data) \n",
    "print(fit.xmin)\n",
    "```\n",
    "\n",
    "Alternatively, you can get a rough estimate of the cut-off yourself by visualizing the power-law."
   ]
  },
  {
   "cell_type": "code",
   "execution_count": 5,
   "metadata": {
    "collapsed": false
   },
   "outputs": [
    {
     "name": "stdout",
     "output_type": "stream",
     "text": [
      "9.0\n"
     ]
    },
    {
     "name": "stderr",
     "output_type": "stream",
     "text": [
      "Calculating best minimal value for power law fit\n",
      "C:\\Users\\Bao\\Anaconda3\\lib\\site-packages\\powerlaw.py:692: RuntimeWarning: invalid value encountered in true_divide\n",
      "  (Theoretical_CDF * (1 - Theoretical_CDF))\n"
     ]
    }
   ],
   "source": [
    "# Find xmin and adjust data (your code here)\n",
    "import powerlaw\n",
    "\n",
    "fit = powerlaw.Fit(degree)\n",
    "print(fit.xmin)"
   ]
  },
  {
   "cell_type": "markdown",
   "metadata": {},
   "source": [
    "## (3) Find scaling exponent\n",
    "With the data available and `xmin` estimated we can now estimate the scaling exponent for our degree distribution. Use the powerlaw package to estimate the scaling exponent."
   ]
  },
  {
   "cell_type": "code",
   "execution_count": 6,
   "metadata": {
    "collapsed": false
   },
   "outputs": [
    {
     "name": "stdout",
     "output_type": "stream",
     "text": [
      "2.99321191036\n"
     ]
    },
    {
     "name": "stderr",
     "output_type": "stream",
     "text": [
      "C:\\Users\\Bao\\Anaconda3\\lib\\site-packages\\powerlaw.py:692: RuntimeWarning: invalid value encountered in true_divide\n",
      "  (Theoretical_CDF * (1 - Theoretical_CDF))\n"
     ]
    }
   ],
   "source": [
    "# Your code here\n",
    "fit = powerlaw.Fit(degree, xmin=9.0)\n",
    "print(fit.power_law.alpha)"
   ]
  },
  {
   "cell_type": "markdown",
   "metadata": {},
   "source": [
    "## (4) Visualize the power-law\n",
    "Plot the CCDF of the power-law along with a best-fit line made using your estimated scaling exponent. You can use your code from the power-law visualization assignment from earlier, but you will have to add the best fit line. One way to do this is to generate points for the x-axis using [`np.linspace`](https://docs.scipy.org/doc/numpy/reference/generated/numpy.linspace.html) or [`np.arange`](https://docs.scipy.org/doc/numpy/reference/generated/numpy.arange.html) and then calculate what the y-axis values should be using `xmin` and `alpha` for a straight line in the log-log CCDF plot. If the fit is good, it should fall right on-top of the empirical data-points on the CCDF plot."
   ]
  },
  {
   "cell_type": "code",
   "execution_count": 7,
   "metadata": {
    "collapsed": false
   },
   "outputs": [
    {
     "data": {
      "text/plain": [
       "<matplotlib.legend.Legend at 0x1b257b85898>"
      ]
     },
     "execution_count": 7,
     "metadata": {},
     "output_type": "execute_result"
    },
    {
     "data": {
      "image/png": "[encoded data removed]",
      "text/plain": [
       "<matplotlib.figure.Figure at 0x1b257b02fd0>"
      ]
     },
     "metadata": {},
     "output_type": "display_data"
    }
   ],
   "source": [
    "# Your visualization code here\n",
    "bins = np.logspace(0.0, 3.0, num=40)\n",
    "Y, X = np.histogram(degree, bins=bins, normed=False)\n",
    "X = [x*np.sqrt(bins[1]) for x in X][:-1]  # find the center point for each bin.\n",
    "cum = np.cumsum(Y)\n",
    "ccum = 1-cum/sum(Y)\n",
    "plt.ylim((0.001, 1))\n",
    "plt.xlabel('Node Degree, k')\n",
    "plt.ylabel(\"CCDF(k)\")\n",
    "plt.loglog(X,ccum, 'o', markersize=3, markerfacecolor='none', label='Empirical data')\n",
    "\n",
    "x = np.logspace(0.0, 3.0, num=40)\n",
    "alpha = fit.power_law.alpha\n",
    "xmin = fit.xmin\n",
    "y = (x/xmin)**(-alpha+1)\n",
    "plt.loglog(x, y, '-r', linestyle='--', label='power-law (alpha = 3, xmin = 9)')\n",
    "plt.legend(loc='upper right', fontsize=8)"
   ]
  },
  {
   "cell_type": "markdown",
   "metadata": {},
   "source": [
    "Alternative, we can use powerlaw package's built in function to draw the ccdf plot."
   ]
  },
  {
   "cell_type": "code",
   "execution_count": 8,
   "metadata": {
    "collapsed": false
   },
   "outputs": [
    {
     "data": {
      "text/plain": [
       "<matplotlib.legend.Legend at 0x1b258742b70>"
      ]
     },
     "execution_count": 8,
     "metadata": {},
     "output_type": "execute_result"
    },
    {
     "data": {
      "image/png": "[encoded data removed]",
      "text/plain": [
       "<matplotlib.figure.Figure at 0x1b25866e940>"
      ]
     },
     "metadata": {},
     "output_type": "display_data"
    }
   ],
   "source": [
    "fig = fit.plot_ccdf(linewidth=2, label = 'Empirical data')\n",
    "fit.power_law.plot_ccdf(ax=fig, color='r', linestyle='--', label = 'Power law')\n",
    "plt.xlabel('Node Degree, k')\n",
    "plt.ylabel(\"CCDF(k)\")\n",
    "plt.legend()"
   ]
  },
  {
   "cell_type": "markdown",
   "metadata": {},
   "source": [
    "# Using your own data\n",
    "Now that you have done the fit and visualization for the BA graph, find a graph or other data and repeat the analysis. You are welcome to use data from this [graph website](http://www-personal.umich.edu/~mejn/netdata/), [Clauset's work](http://tuvalu.santafe.edu/~aaronc/powerlaws/data.htm), or from whatever real-world graphs you can find. Make sure to include the graph or data file when uploading this notebook (and avoid using a huge dataset with millions of nodes)."
   ]
  },
  {
   "cell_type": "markdown",
   "metadata": {},
   "source": [
    "### (1) Getting real-world distribution"
   ]
  },
  {
   "cell_type": "code",
   "execution_count": 9,
   "metadata": {
    "collapsed": false
   },
   "outputs": [
    {
     "name": "stdout",
     "output_type": "stream",
     "text": [
      "0.10\n",
      "0.10\n",
      "0.10\n",
      "0.10\n",
      "0.10\n",
      "0.10\n",
      "0.10\n",
      "0.10\n",
      "0.10\n",
      "0.10\n",
      "[0.1, 0.1, 0.1, 0.1, 0.1] ... [177544.0, 178900.0, 187300.0, 400100.0, 412050.0]\n"
     ]
    }
   ],
   "source": [
    "# Your code here\n",
    "fname = 'fires.txt'\n",
    "!head 'fires.txt'\n",
    "nums = [float(x) for x in open(fname)]\n",
    "print (nums[:5], '...', nums[-5:])"
   ]
  },
  {
   "cell_type": "markdown",
   "metadata": {},
   "source": [
    "### (2) Finding cut-off"
   ]
  },
  {
   "cell_type": "code",
   "execution_count": 10,
   "metadata": {
    "collapsed": false
   },
   "outputs": [
    {
     "name": "stderr",
     "output_type": "stream",
     "text": [
      "Calculating best minimal value for power law fit\n",
      "C:\\Users\\Bao\\Anaconda3\\lib\\site-packages\\powerlaw.py:692: RuntimeWarning: invalid value encountered in true_divide\n",
      "  (Theoretical_CDF * (1 - Theoretical_CDF))\n"
     ]
    },
    {
     "name": "stdout",
     "output_type": "stream",
     "text": [
      "6324.0\n"
     ]
    }
   ],
   "source": [
    "# Your code here\n",
    "fit2 = powerlaw.Fit(nums)\n",
    "print(fit2.xmin)"
   ]
  },
  {
   "cell_type": "markdown",
   "metadata": {},
   "source": [
    "### (3) Estimating scaling exponent"
   ]
  },
  {
   "cell_type": "code",
   "execution_count": 11,
   "metadata": {
    "collapsed": false
   },
   "outputs": [
    {
     "name": "stdout",
     "output_type": "stream",
     "text": [
      "2.16362867855\n"
     ]
    },
    {
     "name": "stderr",
     "output_type": "stream",
     "text": [
      "C:\\Users\\Bao\\Anaconda3\\lib\\site-packages\\powerlaw.py:692: RuntimeWarning: invalid value encountered in true_divide\n",
      "  (Theoretical_CDF * (1 - Theoretical_CDF))\n"
     ]
    }
   ],
   "source": [
    "# Your code here\n",
    "fit2 = powerlaw.Fit(nums, xmin=6324.0)\n",
    "print(fit2.power_law.alpha)"
   ]
  },
  {
   "cell_type": "markdown",
   "metadata": {},
   "source": [
    "### (4) Visualize power-law and best-fit"
   ]
  },
  {
   "cell_type": "code",
   "execution_count": 12,
   "metadata": {
    "collapsed": false
   },
   "outputs": [
    {
     "data": {
      "text/plain": [
       "<matplotlib.legend.Legend at 0x1b257abfa58>"
      ]
     },
     "execution_count": 12,
     "metadata": {},
     "output_type": "execute_result"
    },
    {
     "data": {
      "image/png": "[encoded data removed]",
      "text/plain": [
       "<matplotlib.figure.Figure at 0x1b25879bd30>"
      ]
     },
     "metadata": {},
     "output_type": "display_data"
    }
   ],
   "source": [
    "# Your code here\n",
    "import pylab \n",
    "fig2 = fit2.plot_ccdf(linewidth=3, label = 'Empirical data')\n",
    "fit2.power_law.plot_ccdf(ax=fig2, color='r', linestyle='--', label = 'Power law')\n",
    "plt.xlabel('Node Degree, k')\n",
    "plt.ylabel(\"CCDF(k)\")\n",
    "plt.legend()"
   ]
  },
  {
   "cell_type": "code",
   "execution_count": null,
   "metadata": {
    "collapsed": true
   },
   "outputs": [],
   "source": []
  }
 ],
 "metadata": {
  "anaconda-cloud": {},
  "kernelspec": {
   "display_name": "Python [conda root]",
   "language": "python",
   "name": "conda-root-py"
  },
  "language_info": {
   "codemirror_mode": {
    "name": "ipython",
    "version": 3
   },
   "file_extension": ".py",
   "mimetype": "text/x-python",
   "name": "python",
   "nbconvert_exporter": "python",
   "pygments_lexer": "ipython3",
   "version": "3.5.2"
  }
 },
 "nbformat": 4,
 "nbformat_minor": 0
}
